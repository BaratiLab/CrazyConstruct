{
 "cells": [
  {
   "cell_type": "code",
   "execution_count": 13,
   "id": "8af75d99-af6a-42b4-a686-323460066e76",
   "metadata": {},
   "outputs": [],
   "source": [
    "import numpy as np"
   ]
  },
  {
   "cell_type": "code",
   "execution_count": 2,
   "id": "7cc9018e-3e4e-40ba-ad5d-4ed6ac3ac50b",
   "metadata": {},
   "outputs": [],
   "source": [
    "Home_Location = (0, 0, 0)\n",
    "x0_y0 = (254, 203.20) #X and Y in millimieters from (0,0,0) to the corner of the drop pad\n",
    "solidoworks_measurement = 19.05 #distance from center to center of drop locations in millimeters"
   ]
  },
  {
   "cell_type": "code",
   "execution_count": 3,
   "id": "fe4b6438-cd52-489c-9e93-ae57563b18e7",
   "metadata": {},
   "outputs": [],
   "source": [
    "def get_xy(LLM_coordinate):\n",
    "    x = x0_y0[0] + solidoworks_measurement * LLM_coordinate[0]\n",
    "    y = x0_y0[1] + solidoworks_measurement * LLM_coordinate[1]\n",
    "    drone_xy = (x,y)\n",
    "    return drone_xy"
   ]
  },
  {
   "cell_type": "code",
   "execution_count": 6,
   "id": "3f99121f-c199-44bb-a362-6655c52e1bfc",
   "metadata": {},
   "outputs": [],
   "source": [
    "test = get_xy((1,1))"
   ]
  },
  {
   "cell_type": "code",
   "execution_count": 7,
   "id": "0ec4429a-b333-4b22-ae59-f5a08fee1d2e",
   "metadata": {},
   "outputs": [
    {
     "name": "stdout",
     "output_type": "stream",
     "text": [
      "(273.05, 222.35000000000002)\n"
     ]
    }
   ],
   "source": [
    "print(test)"
   ]
  },
  {
   "cell_type": "code",
   "execution_count": 10,
   "id": "ca54ec65-e13e-4faa-9668-a60e9f5ca104",
   "metadata": {},
   "outputs": [
    {
     "name": "stdout",
     "output_type": "stream",
     "text": [
      "[(254.375, 203.675), (254.375, 222.72500000000002), (254.375, 241.775), (254.375, 260.82500000000005), (254.375, 279.875)]\n",
      "[(273.425, 203.675), (273.425, 222.72500000000002), (273.425, 241.775), (273.425, 260.82500000000005), (273.425, 279.875)]\n",
      "[(292.475, 203.675), (292.475, 222.72500000000002), (292.475, 241.775), (292.475, 260.82500000000005), (292.475, 279.875)]\n",
      "[(311.525, 203.675), (311.525, 222.72500000000002), (311.525, 241.775), (311.525, 260.82500000000005), (311.525, 279.875)]\n",
      "[(330.575, 203.675), (330.575, 222.72500000000002), (330.575, 241.775), (330.575, 260.82500000000005), (330.575, 279.875)]\n"
     ]
    }
   ],
   "source": [
    "Home_Location = (0, 0, 0)\n",
    "x0_y0 = (254, 203.20)  # X and Y in millimeters from (0,0,0) to the corner of the drop pad\n",
    "x1_y1 = (0.375, 0.375) # X and Y in millimeters from pad corner to center of first dropoff point \n",
    "solidoworks_measurement = 19.05  # distance from center to center of drop locations in millimeters\n",
    "\n",
    "def get_xy(LLM_coordinate):\n",
    "    x = x0_y0[0] + x1_y1[0] + solidoworks_measurement * LLM_coordinate[0]\n",
    "    y = x0_y0[1] + x1_y1[1] + solidoworks_measurement * LLM_coordinate[1]\n",
    "    drone_xy = (x, y)\n",
    "    return drone_xy\n",
    "\n",
    "# Create a 5x5 grid of drop-off positions\n",
    "grid_size = 5\n",
    "dropoff_positions = [[get_xy((i, j)) for j in range(grid_size)] for i in range(grid_size)]\n",
    "\n",
    "# Print the drop-off positions\n",
    "for row in dropoff_positions:\n",
    "    print(row)"
   ]
  },
  {
   "cell_type": "code",
   "execution_count": 12,
   "id": "28b57cbd-46f7-4c65-9f37-4ba260db7d35",
   "metadata": {},
   "outputs": [
    {
     "name": "stdout",
     "output_type": "stream",
     "text": [
      "[[(254.375, 203.675), (254.375, 222.72500000000002), (254.375, 241.775), (254.375, 260.82500000000005), (254.375, 279.875)], [(273.425, 203.675), (273.425, 222.72500000000002), (273.425, 241.775), (273.425, 260.82500000000005), (273.425, 279.875)], [(292.475, 203.675), (292.475, 222.72500000000002), (292.475, 241.775), (292.475, 260.82500000000005), (292.475, 279.875)], [(311.525, 203.675), (311.525, 222.72500000000002), (311.525, 241.775), (311.525, 260.82500000000005), (311.525, 279.875)], [(330.575, 203.675), (330.575, 222.72500000000002), (330.575, 241.775), (330.575, 260.82500000000005), (330.575, 279.875)]]\n"
     ]
    }
   ],
   "source": [
    "print(dropoff_positions)"
   ]
  },
  {
   "cell_type": "code",
   "execution_count": 16,
   "id": "239629b1-5d91-4b35-9d3a-b4037ac8d5f8",
   "metadata": {},
   "outputs": [
    {
     "name": "stdout",
     "output_type": "stream",
     "text": [
      "[[[0.254   0.2033 ]\n",
      "  [0.254   0.22235]\n",
      "  [0.254   0.2414 ]\n",
      "  [0.254   0.26045]\n",
      "  [0.254   0.2795 ]]\n",
      "\n",
      " [[0.27305 0.2033 ]\n",
      "  [0.27305 0.22235]\n",
      "  [0.27305 0.2414 ]\n",
      "  [0.27305 0.26045]\n",
      "  [0.27305 0.2795 ]]\n",
      "\n",
      " [[0.2921  0.2033 ]\n",
      "  [0.2921  0.22235]\n",
      "  [0.2921  0.2414 ]\n",
      "  [0.2921  0.26045]\n",
      "  [0.2921  0.2795 ]]\n",
      "\n",
      " [[0.31115 0.2033 ]\n",
      "  [0.31115 0.22235]\n",
      "  [0.31115 0.2414 ]\n",
      "  [0.31115 0.26045]\n",
      "  [0.31115 0.2795 ]]\n",
      "\n",
      " [[0.3302  0.2033 ]\n",
      "  [0.3302  0.22235]\n",
      "  [0.3302  0.2414 ]\n",
      "  [0.3302  0.26045]\n",
      "  [0.3302  0.2795 ]]]\n"
     ]
    }
   ],
   "source": [
    "import numpy as np\n",
    "\n",
    "Home_Location = (0, 0, 0)\n",
    "x0_y0 = (254, 203.30)  # X and Y in millimeters from (0,0,0) to the corner of the drop pad\n",
    "solidoworks_measurement = 19.05  # distance from center to center of drop locations in millimeters\n",
    "\n",
    "def get_xy(LLM_coordinate):\n",
    "    x = x0_y0[0] + solidoworks_measurement * LLM_coordinate[0]\n",
    "    y = x0_y0[1] + solidoworks_measurement * LLM_coordinate[1]\n",
    "    # Convert to meters and truncate to 3 decimal points\n",
    "    x = round(x / 1000, 6)\n",
    "    y = round(y / 1000, 6)\n",
    "    drone_xy = (x, y)\n",
    "    return drone_xy\n",
    "\n",
    "# Create a 5x5 grid of drop-off positions\n",
    "grid_size = 5\n",
    "dropoff_positions = [[get_xy((i, j)) for j in range(grid_size)] for i in range(grid_size)]\n",
    "\n",
    "# Convert to numpy array\n",
    "dropoff_positions_np = np.array(dropoff_positions)\n",
    "\n",
    "# Set numpy print options\n",
    "np.set_printoptions(precision=6, suppress=True, linewidth=100)\n",
    "\n",
    "# Print the drop-off positions\n",
    "print(dropoff_positions_np)"
   ]
  },
  {
   "cell_type": "code",
   "execution_count": 17,
   "id": "9d957bbf-08a4-471c-a115-0a4b0485375a",
   "metadata": {},
   "outputs": [
    {
     "name": "stdout",
     "output_type": "stream",
     "text": [
      "[[[0.254 0.203]\n",
      "  [0.254 0.222]\n",
      "  [0.254 0.241]\n",
      "  [0.254 0.26 ]\n",
      "  [0.254 0.28 ]]\n",
      "\n",
      " [[0.273 0.203]\n",
      "  [0.273 0.222]\n",
      "  [0.273 0.241]\n",
      "  [0.273 0.26 ]\n",
      "  [0.273 0.28 ]]\n",
      "\n",
      " [[0.292 0.203]\n",
      "  [0.292 0.222]\n",
      "  [0.292 0.241]\n",
      "  [0.292 0.26 ]\n",
      "  [0.292 0.28 ]]\n",
      "\n",
      " [[0.311 0.203]\n",
      "  [0.311 0.222]\n",
      "  [0.311 0.241]\n",
      "  [0.311 0.26 ]\n",
      "  [0.311 0.28 ]]\n",
      "\n",
      " [[0.33  0.203]\n",
      "  [0.33  0.222]\n",
      "  [0.33  0.241]\n",
      "  [0.33  0.26 ]\n",
      "  [0.33  0.28 ]]]\n"
     ]
    }
   ],
   "source": [
    "import numpy as np\n",
    "\n",
    "Home_Location = (0, 0, 0)\n",
    "x0_y0 = (254, 203.30)  # X and Y in millimeters from (0,0,0) to the corner of the drop pad\n",
    "solidoworks_measurement = 19.05  # distance from center to center of drop locations in millimeters\n",
    "\n",
    "def get_xy(LLM_coordinate):\n",
    "    x = x0_y0[0] + solidoworks_measurement * LLM_coordinate[0]\n",
    "    y = x0_y0[1] + solidoworks_measurement * LLM_coordinate[1]\n",
    "    # Convert to meters and truncate to 3 decimal points\n",
    "    x = round(x / 1000, 3)\n",
    "    y = round(y / 1000, 3)\n",
    "    drone_xy = (x, y)\n",
    "    return drone_xy\n",
    "\n",
    "# Create a 5x5 grid of drop-off positions\n",
    "grid_size = 5\n",
    "dropoff_positions = np.array([[get_xy((i, j)) for j in range(grid_size)] for i in range(grid_size)])\n",
    "\n",
    "# Set numpy print options\n",
    "np.set_printoptions(precision=3, suppress=True, linewidth=200)\n",
    "\n",
    "# Print the drop-off positions\n",
    "print(dropoff_positions)"
   ]
  },
  {
   "cell_type": "code",
   "execution_count": 19,
   "id": "71f48e08-0321-4541-b52f-9f38646d9b28",
   "metadata": {},
   "outputs": [
    {
     "name": "stdout",
     "output_type": "stream",
     "text": [
      "[[[0.254   0.2032 ]\n",
      "  [0.254   0.22225]\n",
      "  [0.254   0.2413 ]\n",
      "  [0.254   0.26035]\n",
      "  [0.254   0.2794 ]]\n",
      "\n",
      " [[0.27305 0.2032 ]\n",
      "  [0.27305 0.22225]\n",
      "  [0.27305 0.2413 ]\n",
      "  [0.27305 0.26035]\n",
      "  [0.27305 0.2794 ]]\n",
      "\n",
      " [[0.2921  0.2032 ]\n",
      "  [0.2921  0.22225]\n",
      "  [0.2921  0.2413 ]\n",
      "  [0.2921  0.26035]\n",
      "  [0.2921  0.2794 ]]\n",
      "\n",
      " [[0.31115 0.2032 ]\n",
      "  [0.31115 0.22225]\n",
      "  [0.31115 0.2413 ]\n",
      "  [0.31115 0.26035]\n",
      "  [0.31115 0.2794 ]]\n",
      "\n",
      " [[0.3302  0.2032 ]\n",
      "  [0.3302  0.22225]\n",
      "  [0.3302  0.2413 ]\n",
      "  [0.3302  0.26035]\n",
      "  [0.3302  0.2794 ]]]\n"
     ]
    }
   ],
   "source": [
    "import numpy as np\n",
    "\n",
    "Home_Location = (0, 0, 0)\n",
    "x0_y0 = (254, 203.20)  # X and Y in millimeters from (0,0,0) to the corner of the drop pad\n",
    "solidoworks_measurement = 19.05  # distance from center to center of drop locations in millimeters\n",
    "\n",
    "def get_xy(LLM_coordinate):\n",
    "    x = x0_y0[0] + solidoworks_measurement * LLM_coordinate[0]\n",
    "    y = x0_y0[1] + solidoworks_measurement * LLM_coordinate[1]\n",
    "    # Convert to meters and truncate to 6 decimal points\n",
    "    x = round(x / 1000, 6)\n",
    "    y = round(y / 1000, 6)\n",
    "    drone_xy = (x, y)\n",
    "    return drone_xy\n",
    "\n",
    "# Create a 5x5 grid of drop-off positions\n",
    "grid_size = 5\n",
    "dropoff_positions = np.array([[get_xy((i, j)) for j in range(grid_size)] for i in range(grid_size)])\n",
    "\n",
    "# Set numpy print options\n",
    "np.set_printoptions(precision=6, suppress=True, linewidth=500)\n",
    "\n",
    "# Print the drop-off positions\n",
    "print(dropoff_positions)"
   ]
  },
  {
   "cell_type": "code",
   "execution_count": 20,
   "id": "487e9581-341a-4420-b1cb-3937eee23bed",
   "metadata": {},
   "outputs": [
    {
     "name": "stdout",
     "output_type": "stream",
     "text": [
      "[[0.254   0.2032 ]\n",
      " [0.254   0.22225]\n",
      " [0.254   0.2413 ]\n",
      " [0.254   0.26035]\n",
      " [0.254   0.2794 ]]\n"
     ]
    }
   ],
   "source": [
    "print(dropoff_positions[0])"
   ]
  },
  {
   "cell_type": "code",
   "execution_count": 26,
   "id": "97626b83-fe8d-4250-b392-ab26151ef93c",
   "metadata": {},
   "outputs": [
    {
     "name": "stdout",
     "output_type": "stream",
     "text": [
      "(0.254, 0.204) (0.254, 0.223) (0.254, 0.242) (0.254, 0.261) (0.254, 0.280)\n",
      "(0.273, 0.204) (0.273, 0.223) (0.273, 0.242) (0.273, 0.261) (0.273, 0.280)\n",
      "(0.292, 0.204) (0.292, 0.223) (0.292, 0.242) (0.292, 0.261) (0.292, 0.280)\n",
      "(0.312, 0.204) (0.312, 0.223) (0.312, 0.242) (0.312, 0.261) (0.312, 0.280)\n",
      "(0.331, 0.204) (0.331, 0.223) (0.331, 0.242) (0.331, 0.261) (0.331, 0.280)\n"
     ]
    }
   ],
   "source": [
    "import numpy as np\n",
    "\n",
    "Home_Location = (0, 0, 0)\n",
    "x0_y0 = (254, 203.20)  # X and Y in millimeters from (0,0,0) to the corner of the drop pad\n",
    "x1_y1 = (0.375, 0.375) # X and Y in millimeters from pad corner to center of first dropoff point \n",
    "solidoworks_measurement = 19.05  # distance from center to center of drop locations in millimeters\n",
    "\n",
    "def get_xy(LLM_coordinate):\n",
    "    x = x0_y0[0] + x1_y1[0] + solidoworks_measurement * LLM_coordinate[0]\n",
    "    y = x0_y0[1] + x1_y1[1] + solidoworks_measurement * LLM_coordinate[1]\n",
    "    x = round(x / 1000, 6)\n",
    "    y = round(y / 1000, 6)\n",
    "    drone_xy = (x, y)\n",
    "    return drone_xy\n",
    "\n",
    "# Create a 5x5 grid of drop-off positions\n",
    "grid_size = 5\n",
    "dropoff_positions = [[get_xy((i, j)) for j in range(grid_size)] for i in range(grid_size)]\n",
    "\n",
    "# Convert to numpy array for easy printing\n",
    "dropoff_positions_np = np.array(dropoff_positions)\n",
    "\n",
    "# Print the drop-off positions in a formatted way\n",
    "for row in dropoff_positions_np:\n",
    "    print(' '.join([f\"({x:.3f}, {y:.3f})\" for x, y in row]))"
   ]
  },
  {
   "cell_type": "code",
   "execution_count": 27,
   "id": "42d23683-36ff-4448-97cc-b1b668bccdc4",
   "metadata": {},
   "outputs": [
    {
     "name": "stdout",
     "output_type": "stream",
     "text": [
      "[[[0.254375 0.203575]\n",
      "  [0.254375 0.222625]\n",
      "  [0.254375 0.241675]\n",
      "  [0.254375 0.260725]\n",
      "  [0.254375 0.279775]]\n",
      "\n",
      " [[0.273425 0.203575]\n",
      "  [0.273425 0.222625]\n",
      "  [0.273425 0.241675]\n",
      "  [0.273425 0.260725]\n",
      "  [0.273425 0.279775]]\n",
      "\n",
      " [[0.292475 0.203575]\n",
      "  [0.292475 0.222625]\n",
      "  [0.292475 0.241675]\n",
      "  [0.292475 0.260725]\n",
      "  [0.292475 0.279775]]\n",
      "\n",
      " [[0.311525 0.203575]\n",
      "  [0.311525 0.222625]\n",
      "  [0.311525 0.241675]\n",
      "  [0.311525 0.260725]\n",
      "  [0.311525 0.279775]]\n",
      "\n",
      " [[0.330575 0.203575]\n",
      "  [0.330575 0.222625]\n",
      "  [0.330575 0.241675]\n",
      "  [0.330575 0.260725]\n",
      "  [0.330575 0.279775]]]\n"
     ]
    }
   ],
   "source": [
    "print(dropoff_positions_np)"
   ]
  },
  {
   "cell_type": "code",
   "execution_count": 29,
   "id": "b42170fe-b087-488a-b548-846c57ad26ec",
   "metadata": {},
   "outputs": [
    {
     "name": "stdout",
     "output_type": "stream",
     "text": [
      "(0.254375, 0.203575)\n"
     ]
    }
   ],
   "source": [
    "print(dropoff_positions[0][0])"
   ]
  },
  {
   "cell_type": "code",
   "execution_count": 30,
   "id": "6198d966-7ec6-4064-b6e4-162ba3f57c63",
   "metadata": {},
   "outputs": [
    {
     "name": "stdout",
     "output_type": "stream",
     "text": [
      "(0.254375, 0.203575)\n"
     ]
    }
   ],
   "source": [
    "E_spot1 = get_xy((0,0))\n",
    "print(E_spot1)"
   ]
  },
  {
   "cell_type": "code",
   "execution_count": null,
   "id": "6b8ac44f-a7fd-432f-97f2-fdde9ed588fb",
   "metadata": {},
   "outputs": [],
   "source": []
  }
 ],
 "metadata": {
  "kernelspec": {
   "display_name": "Python 3 (ipykernel)",
   "language": "python",
   "name": "python3"
  },
  "language_info": {
   "codemirror_mode": {
    "name": "ipython",
    "version": 3
   },
   "file_extension": ".py",
   "mimetype": "text/x-python",
   "name": "python",
   "nbconvert_exporter": "python",
   "pygments_lexer": "ipython3",
   "version": "3.11.9"
  }
 },
 "nbformat": 4,
 "nbformat_minor": 5
}
