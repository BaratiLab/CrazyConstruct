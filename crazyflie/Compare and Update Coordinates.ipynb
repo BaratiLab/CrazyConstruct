{
 "cells": [
  {
   "cell_type": "code",
   "execution_count": 39,
   "id": "ee3292cb-1280-4441-8b23-510b7a03be62",
   "metadata": {},
   "outputs": [],
   "source": [
    "import openai\n",
    "from openai import OpenAI\n",
    "import os\n",
    "from dotenv import load_dotenv\n",
    "import matplotlib.pyplot as plt\n",
    "import ast\n",
    "from pathlib import Path\n",
    "import json\n",
    "import numpy as np"
   ]
  },
  {
   "cell_type": "code",
   "execution_count": 37,
   "id": "2184aa90-ec14-4d6f-96ef-7484f22982c9",
   "metadata": {},
   "outputs": [],
   "source": [
    "def plot_coordinates(title, list_of_coordinates):\n",
    "    grid_size = 5  # Define the grid size\n",
    "    \n",
    "    # Create the grid with default color value (e.g., 0)\n",
    "    grid = np.zeros((grid_size, grid_size))\n",
    "    \n",
    "    # Set the color value for the selected coordinates (e.g., 1)\n",
    "    for x, y in list_of_coordinates:\n",
    "        grid[y][x] = 1  # Note: row and col are switched here\n",
    "    \n",
    "    fig, ax = plt.subplots()\n",
    "    cax = ax.matshow(grid, cmap='plasma', origin='lower')\n",
    "    \n",
    "    # Move the x-axis to the bottom\n",
    "    ax.xaxis.set_ticks_position('bottom')\n",
    "    ax.xaxis.set_label_position('bottom')\n",
    "    \n",
    "    # Set ticks and labels\n",
    "    ax.set_xticks(range(grid_size))\n",
    "    ax.set_yticks(range(grid_size))\n",
    "    ax.set_xticklabels(range(grid_size))\n",
    "    ax.set_yticklabels(range(grid_size))\n",
    "    \n",
    "    # Add red dots on points not selected\n",
    "    for y in range(grid_size):\n",
    "        for x in range(grid_size):\n",
    "            if grid[y][x] == 0:\n",
    "                ax.plot(x, y, 'ro')  # Plot red dots for unselected points\n",
    "    \n",
    "    # Add X on the points that are selected\n",
    "    for y in range(grid_size):\n",
    "        for x in range(grid_size):\n",
    "            if grid[y][x] == 1:\n",
    "                ax.text(x, y, 'X', va='center', ha='center', color='Black', weight='bold')\n",
    "    \n",
    "    plt.title(title)\n",
    "    plt.grid(True)\n",
    "    plt.show()"
   ]
  },
  {
   "cell_type": "code",
   "execution_count": 14,
   "id": "2ffc8eff-6229-4d8c-8b18-54f835973f03",
   "metadata": {},
   "outputs": [],
   "source": [
    "# Specify the path to the .env file\n",
    "env_path = Path(r'C:\\Users\\CrazyFlie\\Documents\\Nonuploadable_Git\\.env')\n",
    "\n",
    "# Load the .env file\n",
    "load_dotenv(dotenv_path=env_path)\n",
    "\n",
    "# Get the OpenAI API key from environment variables\n",
    "api_key = os.getenv(\"OPENAI_API_KEY\")\n",
    "\n",
    "client = OpenAI(\n",
    "    api_key=api_key\n",
    ")"
   ]
  },
  {
   "cell_type": "code",
   "execution_count": 309,
   "id": "5fde3667-9612-45d9-b009-f96f275c4cb1",
   "metadata": {},
   "outputs": [],
   "source": [
    "#Make sure the letter is not upside down or backwards otherwise it won't be legible. "
   ]
  },
  {
   "cell_type": "code",
   "execution_count": 310,
   "id": "ae14292a-b161-4be1-8be8-224e17c85733",
   "metadata": {},
   "outputs": [],
   "source": [
    "original_prompt = \"\"\"\n",
    "A drone us being used to place building blocks on a grid.\n",
    "You are being asked to come up with the drop off locations for the drone that create a specified design. \n",
    "The origin of the grid is [0,0] in the bottom left corner and the last point is [5,5] in the top right.\n",
    "The X axis goes from [0,0] to [5,0]. The Y axis goes from [0,0] to [0,5].\n",
    "Make sure none of your points exceed the [5,5] index limit. If they do, fix the design.\n",
    "Only Integers are allowed.\n",
    "\n",
    "Please provide the Title and Coordinates in correct JSON format for the Design of the letter \"H\".\n",
    "The Coordinates should be given in the specific order you would want them executed. \n",
    "Make sure your design makes sense and would be legible.\n",
    "Make sure the design is legible by thinking step by step as you choose points.\n",
    "Check the design before confirming it, such as for legibility and index limit of 5. \n",
    "If it is wrong, redo the design and then recheck until you find no errors using a step by step approach.\n",
    "Only return the JSON in the strucuture provided as it needs to be parsed with Python. Do not include any other text or symbols.\n",
    "\n",
    "Please use the following structure:\n",
    "\n",
    "{\n",
    "    \"Design\": [\n",
    "        {\n",
    "            \"Title\": \"Title of Design\",\n",
    "            \"Coordinates\": [\n",
    "                [x, y],\n",
    "                [x, y]\n",
    "            ],\n",
    "            \"Reasoning\": \"Your textual reseasoning here\"\n",
    "      }\n",
    "    ]\n",
    "}\n",
    "\"\"\""
   ]
  },
  {
   "cell_type": "code",
   "execution_count": 311,
   "id": "d7db16fd-1cb3-4c04-b33c-a7df46668425",
   "metadata": {},
   "outputs": [],
   "source": [
    "JSON_Output =\"\"\" {\n",
    "    \"Design\": [\n",
    "        {\n",
    "            \"Title\": \"Letter H\",\n",
    "            \"Coordinates\": [\n",
    "                [1, 1],\n",
    "                [1, 2],\n",
    "                [1, 3],\n",
    "                [1, 4],\n",
    "                [3, 1],\n",
    "                [3, 2],\n",
    "                [3, 3],\n",
    "                [3, 4],\n",
    "                [1, 3],\n",
    "                [2, 3],\n",
    "                [3, 3]\n",
    "            ],\n",
    "            \"Reasoning\": \"The coordinates have been selected to form a legible letter 'H' within the 5x5 grid parameters. The vertical lines of the 'H' are created at (1,1) to (1,4) and (3,1) to (3,4), and the horizontal connector is created at y=3 from x=1 to x=3.\"\n",
    "        }\n",
    "    ]\n",
    "}\n",
    "\"\"\""
   ]
  },
  {
   "cell_type": "code",
   "execution_count": 312,
   "id": "a68f712c-5d3e-47c1-aee5-8c50093466c0",
   "metadata": {},
   "outputs": [],
   "source": [
    "desired_xy = \"[2,3]\""
   ]
  },
  {
   "cell_type": "code",
   "execution_count": 313,
   "id": "643e4400-26cd-4ee7-8c29-dda4115822ab",
   "metadata": {},
   "outputs": [],
   "source": [
    "actual_xy = \"[0,2]\""
   ]
  },
  {
   "cell_type": "code",
   "execution_count": 314,
   "id": "14a77730-81b8-44fd-b27e-beeb350bc062",
   "metadata": {},
   "outputs": [],
   "source": [
    "correct_xy = \"[1,1], [1,2]\""
   ]
  },
  {
   "cell_type": "code",
   "execution_count": 327,
   "id": "c50b9160-e2ef-4335-8116-dbe0dee0c3a8",
   "metadata": {},
   "outputs": [],
   "source": [
    "Test_JSON_prompt = f\"\"\"\n",
    "You were previously provided the following prompt: \n",
    "START PROMPT {original_prompt} END PROMPT\n",
    "\n",
    "Your reponse to this prompt was the following JSON: \n",
    "START RESPONSE {JSON_Output} END RESPONSE\n",
    "\n",
    "While executing the coordinates that were previoulsy provided, blocks were correctly placed at {correct_xy}.\n",
    "However, an when trying to place a block at {desired_xy}, it was instead placed at {actual_xy}.\n",
    "\n",
    "This means there are currently blocks at {correct_xy} and {actual_xy}.\n",
    "\n",
    "You are now tasked with checking the design and recovering it if possible.\n",
    "\n",
    "If the design is recoverable by continuing with the current plan in a different order, then\n",
    "provide the coorindates where blocks still need to be placed in the JSON structure provided.\n",
    "\n",
    "If the design is not recoverable with the current plan, then try to recover it with a new layout that incorparates the already placed blocks. \n",
    "A new layout might mean a different orientation of the design, such as turning the design or laterally shifting it, which is allowed if needed. \n",
    "Note that any block that has already been placed cannot be removed and therefore must be used in any new designs.\n",
    "Make sure your design makes if you do a redisgn, then provide the coorindates where blocks still need to be placed at in the JSON structure provided.\n",
    "\n",
    "Make sure to follow the instructions from the original prompt if needed.\n",
    "\n",
    "If the design it not not recoverable at all, reply set the Title as \"Design is not recoverable.\" and provide no Coordinates.\n",
    "\"\"\"\n",
    "\n",
    "\n"
   ]
  },
  {
   "cell_type": "code",
   "execution_count": 328,
   "id": "a15badc8-8a4f-42ae-8e95-f2ae257be780",
   "metadata": {},
   "outputs": [
    {
     "name": "stdout",
     "output_type": "stream",
     "text": [
      "\n",
      "You were previously provided the following prompt: \n",
      "START PROMPT \n",
      "A drone us being used to place building blocks on a grid.\n",
      "You are being asked to come up with the drop off locations for the drone that create a specified design. \n",
      "The origin of the grid is [0,0] in the bottom left corner and the last point is [5,5] in the top right.\n",
      "The X axis goes from [0,0] to [5,0]. The Y axis goes from [0,0] to [0,5].\n",
      "Make sure none of your points exceed the [5,5] index limit. If they do, fix the design.\n",
      "Only Integers are allowed.\n",
      "\n",
      "Please provide the Title and Coordinates in correct JSON format for the Design of the letter \"H\".\n",
      "The Coordinates should be given in the specific order you would want them executed. \n",
      "Make sure your design makes sense and would be legible.\n",
      "Make sure the design is legible by thinking step by step as you choose points.\n",
      "Check the design before confirming it, such as for legibility and index limit of 5. \n",
      "If it is wrong, redo the design and then recheck until you find no errors using a step by step approach.\n",
      "Only return the JSON in the strucuture provided as it needs to be parsed with Python. Do not include any other text or symbols.\n",
      "\n",
      "Please use the following structure:\n",
      "\n",
      "{\n",
      "    \"Design\": [\n",
      "        {\n",
      "            \"Title\": \"Title of Design\",\n",
      "            \"Coordinates\": [\n",
      "                [x, y],\n",
      "                [x, y]\n",
      "            ],\n",
      "            \"Reasoning\": \"Your textual reseasoning here\"\n",
      "      }\n",
      "    ]\n",
      "}\n",
      " END PROMPT\n",
      "\n",
      "Your reponse to this prompt was the following JSON: \n",
      "START RESPONSE  {\n",
      "    \"Design\": [\n",
      "        {\n",
      "            \"Title\": \"Letter H\",\n",
      "            \"Coordinates\": [\n",
      "                [1, 1],\n",
      "                [1, 2],\n",
      "                [1, 3],\n",
      "                [1, 4],\n",
      "                [3, 1],\n",
      "                [3, 2],\n",
      "                [3, 3],\n",
      "                [3, 4],\n",
      "                [1, 3],\n",
      "                [2, 3],\n",
      "                [3, 3]\n",
      "            ],\n",
      "            \"Reasoning\": \"The coordinates have been selected to form a legible letter 'H' within the 5x5 grid parameters. The vertical lines of the 'H' are created at (1,1) to (1,4) and (3,1) to (3,4), and the horizontal connector is created at y=3 from x=1 to x=3.\"\n",
      "        }\n",
      "    ]\n",
      "}\n",
      " END RESPONSE\n",
      "\n",
      "While executing the coordinates that were previoulsy provided, blocks were correctly placed at [1,1], [1,2].\n",
      "However, an when trying to place a block at [2,3], it was instead placed at [0,2].\n",
      "\n",
      "This means there are currently blocks at [1,1], [1,2] and [0,2].\n",
      "\n",
      "You are now tasked with checking the design and recovering it if possible.\n",
      "\n",
      "If the design is recoverable by continuing with the current plan in a different order, then\n",
      "provide the coorindates where blocks still need to be placed in the JSON structure provided.\n",
      "\n",
      "If the design is not recoverable with the current plan, then try to recover it with a new layout that incorparates the already placed blocks. \n",
      "A new layout might mean a different orientation of the design, such as turning the design or laterally shifting it, which is allowed if needed. \n",
      "Note that any block that has already been placed cannot be removed and therefore must be used in any new designs.\n",
      "Make sure your design makes if you do a redisgn, then provide the coorindates where blocks still need to be placed at in the JSON structure provided.\n",
      "\n",
      "Make sure to follow the instructions from the original prompt if needed.\n",
      "\n",
      "If the design it not not recoverable at all, reply set the Title as \"Design is not recoverable.\" and provide no Coordinates.\n",
      "\n"
     ]
    }
   ],
   "source": [
    "print(Test_JSON_prompt)"
   ]
  },
  {
   "cell_type": "code",
   "execution_count": 329,
   "id": "a61be50f-4a9e-407f-8ee8-37accee67d97",
   "metadata": {},
   "outputs": [],
   "source": [
    "# Define the prompt\n",
    "prompt = Test_JSON_prompt\n",
    "\n",
    "# Send the request to OpenAI using the new ChatCompletion method\n",
    "response = client.chat.completions.create(\n",
    "    model=\"gpt-4o\",\n",
    "    response_format = {\"type\": \"json_object\"},\n",
    "    messages=[\n",
    "        {\n",
    "            \"role\": \"user\",\n",
    "            \"content\": prompt,\n",
    "        }\n",
    "    ],   \n",
    ")"
   ]
  },
  {
   "cell_type": "code",
   "execution_count": 330,
   "id": "83017895-84b3-4f0b-be8a-37d2e099c6aa",
   "metadata": {},
   "outputs": [
    {
     "name": "stdout",
     "output_type": "stream",
     "text": [
      "ChatCompletion(id='chatcmpl-9nuAEcJhO1nkDNxrqLPPE3qdNe3ri', choices=[Choice(finish_reason='stop', index=0, logprobs=None, message=ChatCompletionMessage(content='{\\n    \"Design\": [\\n        {\\n            \"Title\": \"Letter H\",\\n            \"Coordinates\": [\\n                [1, 3],\\n                [1, 4],\\n                [3, 1],\\n                [3, 2],\\n                [3, 3],\\n                [3, 4],\\n                [2, 3]\\n            ],\\n            \"Reasoning\": \"The existing blocks are at [1,1], [1,2], and [0,2]. To recover the design, we adjust the original orientation so that these blocks can be used effectively. We will keep the \\'H\\' with one vertical line on (1,y) from y=1 to y=4, and the other at (3,y) from y=1 to y=4. The horizontal connection will be along y=3 from x=1 to x=3.\"\\n        }\\n    ]\\n}', role='assistant', function_call=None, tool_calls=None))], created=1721680994, model='gpt-4o-2024-05-13', object='chat.completion', service_tier=None, system_fingerprint='fp_400f27fa1f', usage=CompletionUsage(completion_tokens=183, prompt_tokens=839, total_tokens=1022))\n"
     ]
    }
   ],
   "source": [
    "print(response)"
   ]
  },
  {
   "cell_type": "code",
   "execution_count": 331,
   "id": "23eb5da7-ecd8-4bb5-a817-df1b711f3aa5",
   "metadata": {},
   "outputs": [
    {
     "name": "stdout",
     "output_type": "stream",
     "text": [
      "{\n",
      "    \"Design\": [\n",
      "        {\n",
      "            \"Title\": \"Letter H\",\n",
      "            \"Coordinates\": [\n",
      "                [1, 3],\n",
      "                [1, 4],\n",
      "                [3, 1],\n",
      "                [3, 2],\n",
      "                [3, 3],\n",
      "                [3, 4],\n",
      "                [2, 3]\n",
      "            ],\n",
      "            \"Reasoning\": \"The existing blocks are at [1,1], [1,2], and [0,2]. To recover the design, we adjust the original orientation so that these blocks can be used effectively. We will keep the 'H' with one vertical line on (1,y) from y=1 to y=4, and the other at (3,y) from y=1 to y=4. The horizontal connection will be along y=3 from x=1 to x=3.\"\n",
      "        }\n",
      "    ]\n",
      "}\n"
     ]
    }
   ],
   "source": [
    "# Extract the response text\n",
    "response_text = response.choices[0].message.content\n",
    "print(response_text)"
   ]
  },
  {
   "cell_type": "code",
   "execution_count": 332,
   "id": "9394ed2e-a7ac-470b-b881-1781148ff4c6",
   "metadata": {},
   "outputs": [
    {
     "name": "stdout",
     "output_type": "stream",
     "text": [
      "[[1, 3], [1, 4], [3, 1], [3, 2], [3, 3], [3, 4], [2, 3]]\n"
     ]
    },
    {
     "data": {
      "image/png": "[encoded data removed]",
      "text/plain": [
       "<Figure size 640x480 with 1 Axes>"
      ]
     },
     "metadata": {},
     "output_type": "display_data"
    },
    {
     "name": "stdout",
     "output_type": "stream",
     "text": [
      "The existing blocks are at [1,1], [1,2], and [0,2]. To recover the design, we adjust the original orientation so that these blocks can be used effectively. We will keep the 'H' with one vertical line on (1,y) from y=1 to y=4, and the other at (3,y) from y=1 to y=4. The horizontal connection will be along y=3 from x=1 to x=3.\n"
     ]
    }
   ],
   "source": [
    "# Load JSON data\n",
    "data = json.loads(response_text)\n",
    "\n",
    "# Loop through each design and plot\n",
    "for design in data['Design']:\n",
    "    title = design['Title']\n",
    "    coordinates = design['Coordinates']\n",
    "    print(coordinates)\n",
    "    plot_coordinates(title, coordinates)\n",
    "    print(design['Reasoning'])"
   ]
  },
  {
   "cell_type": "code",
   "execution_count": 191,
   "id": "8f563028-58ed-49d9-a5b5-f7ef16874cb8",
   "metadata": {},
   "outputs": [
    {
     "ename": "NameError",
     "evalue": "name 'json_data' is not defined",
     "output_type": "error",
     "traceback": [
      "\u001b[1;31m---------------------------------------------------------------------------\u001b[0m",
      "\u001b[1;31mNameError\u001b[0m                                 Traceback (most recent call last)",
      "Cell \u001b[1;32mIn[191], line 2\u001b[0m\n\u001b[0;32m      1\u001b[0m \u001b[38;5;66;03m# Parse JSON data\u001b[39;00m\n\u001b[1;32m----> 2\u001b[0m data \u001b[38;5;241m=\u001b[39m json\u001b[38;5;241m.\u001b[39mloads(\u001b[43mjson_data\u001b[49m)\n\u001b[0;32m      4\u001b[0m \u001b[38;5;66;03m# Extract design title and coordinates\u001b[39;00m\n\u001b[0;32m      5\u001b[0m design_title \u001b[38;5;241m=\u001b[39m data[\u001b[38;5;124m\"\u001b[39m\u001b[38;5;124mDesign\u001b[39m\u001b[38;5;124m\"\u001b[39m][\u001b[38;5;241m0\u001b[39m][\u001b[38;5;124m\"\u001b[39m\u001b[38;5;124mTitle\u001b[39m\u001b[38;5;124m\"\u001b[39m]\n",
      "\u001b[1;31mNameError\u001b[0m: name 'json_data' is not defined"
     ]
    }
   ],
   "source": [
    "# Parse JSON data\n",
    "data = json.loads(json_data)\n",
    "\n",
    "# Extract design title and coordinates\n",
    "design_title = data[\"Design\"][0][\"Title\"]\n",
    "desired_coordinates = data[\"Design\"][0][\"Coordinates\"]"
   ]
  },
  {
   "cell_type": "code",
   "execution_count": null,
   "id": "a8a1588d-b049-49da-a30b-2ef36707bba1",
   "metadata": {},
   "outputs": [],
   "source": []
  }
 ],
 "metadata": {
  "kernelspec": {
   "display_name": "Python 3 (ipykernel)",
   "language": "python",
   "name": "python3"
  },
  "language_info": {
   "codemirror_mode": {
    "name": "ipython",
    "version": 3
   },
   "file_extension": ".py",
   "mimetype": "text/x-python",
   "name": "python",
   "nbconvert_exporter": "python",
   "pygments_lexer": "ipython3",
   "version": "3.12.3"
  }
 },
 "nbformat": 4,
 "nbformat_minor": 5
}
