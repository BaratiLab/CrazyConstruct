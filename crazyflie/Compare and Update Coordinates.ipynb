{
 "cells": [
  {
   "cell_type": "code",
   "execution_count": 39,
   "id": "ee3292cb-1280-4441-8b23-510b7a03be62",
   "metadata": {},
   "outputs": [],
   "source": [
    "import openai\n",
    "from openai import OpenAI\n",
    "import os\n",
    "from dotenv import load_dotenv\n",
    "import matplotlib.pyplot as plt\n",
    "import ast\n",
    "from pathlib import Path\n",
    "import json\n",
    "import numpy as np"
   ]
  },
  {
   "cell_type": "code",
   "execution_count": 37,
   "id": "2184aa90-ec14-4d6f-96ef-7484f22982c9",
   "metadata": {},
   "outputs": [],
   "source": [
    "def plot_coordinates(title, list_of_coordinates):\n",
    "    grid_size = 5  # Define the grid size\n",
    "    \n",
    "    # Create the grid with default color value (e.g., 0)\n",
    "    grid = np.zeros((grid_size, grid_size))\n",
    "    \n",
    "    # Set the color value for the selected coordinates (e.g., 1)\n",
    "    for x, y in list_of_coordinates:\n",
    "        grid[y][x] = 1  # Note: row and col are switched here\n",
    "    \n",
    "    fig, ax = plt.subplots()\n",
    "    cax = ax.matshow(grid, cmap='plasma', origin='lower')\n",
    "    \n",
    "    # Move the x-axis to the bottom\n",
    "    ax.xaxis.set_ticks_position('bottom')\n",
    "    ax.xaxis.set_label_position('bottom')\n",
    "    \n",
    "    # Set ticks and labels\n",
    "    ax.set_xticks(range(grid_size))\n",
    "    ax.set_yticks(range(grid_size))\n",
    "    ax.set_xticklabels(range(grid_size))\n",
    "    ax.set_yticklabels(range(grid_size))\n",
    "    \n",
    "    # Add red dots on points not selected\n",
    "    for y in range(grid_size):\n",
    "        for x in range(grid_size):\n",
    "            if grid[y][x] == 0:\n",
    "                ax.plot(x, y, 'ro')  # Plot red dots for unselected points\n",
    "    \n",
    "    # Add X on the points that are selected\n",
    "    for y in range(grid_size):\n",
    "        for x in range(grid_size):\n",
    "            if grid[y][x] == 1:\n",
    "                ax.text(x, y, 'X', va='center', ha='center', color='Black', weight='bold')\n",
    "    \n",
    "    plt.title(title)\n",
    "    plt.grid(True)\n",
    "    plt.show()"
   ]
  },
  {
   "cell_type": "code",
   "execution_count": 14,
   "id": "2ffc8eff-6229-4d8c-8b18-54f835973f03",
   "metadata": {},
   "outputs": [],
   "source": [
    "# Specify the path to the .env file\n",
    "env_path = Path(r'C:\\Users\\CrazyFlie\\Documents\\Nonuploadable_Git\\.env')\n",
    "\n",
    "# Load the .env file\n",
    "load_dotenv(dotenv_path=env_path)\n",
    "\n",
    "# Get the OpenAI API key from environment variables\n",
    "api_key = os.getenv(\"OPENAI_API_KEY\")\n",
    "\n",
    "client = OpenAI(\n",
    "    api_key=api_key\n",
    ")"
   ]
  },
  {
   "cell_type": "code",
   "execution_count": 309,
   "id": "5fde3667-9612-45d9-b009-f96f275c4cb1",
   "metadata": {},
   "outputs": [],
   "source": [
    "#Make sure the letter is not upside down or backwards otherwise it won't be legible. "
   ]
  },
  {
   "cell_type": "code",
   "execution_count": 363,
   "id": "ae14292a-b161-4be1-8be8-224e17c85733",
   "metadata": {},
   "outputs": [],
   "source": [
    "original_prompt = \"\"\"\n",
    "A drone us being used to place building blocks on a grid.\n",
    "You are being asked to come up with the drop off locations for the drone that create a specified design. \n",
    "The origin of the grid is [0,0] in the bottom left corner and the last point is [4,4] in the top right.\n",
    "The X axis goes from [0,0] to [4,0]. The Y axis goes from [0,0] to [0,4].\n",
    "Make sure none of your points exceed the [4,4] index limit. If they do, fix the design.\n",
    "Only Integers are allowed.\n",
    "\n",
    "Your Grid looks like this:\n",
    "\n",
    "4 x x x x x\n",
    "3 x x x x x\n",
    "2 x x x x x\n",
    "1 x x x x x\n",
    "0 x x x x x\n",
    "  0 1 2 3 4 \n",
    "\n",
    "You are being asked to design the following: An uppercase H\n",
    "\n",
    "Please provide the Title, Coordinates and your Reasoning in correct JSON format for the design.\n",
    "The Coordinates should be given in the specific order you would want them executed. \n",
    "\n",
    "\n",
    "Make sure the design is legible by thinking step by step as you choose points.\n",
    "Check the design before confirming it, such as for legibility and index limit of 4. \n",
    "If it is wrong, redo the design and then recheck until you find no errors using a step by step approach.\n",
    "Only return the JSON in the strucuture provided as it needs to be parsed with Python. Do not include any other text or symbols.\n",
    "\n",
    "Please use the following structure:\n",
    "\n",
    "{\n",
    "    \"Design\": [\n",
    "        {\n",
    "            \"Title\": \"Title of Design\",\n",
    "            \"Coordinates\": [\n",
    "                [x, y],\n",
    "                [x, y]\n",
    "            ],\n",
    "            \"Reasoning\": \"Your textual reseasoning here\"\n",
    "      }\n",
    "    ]\n",
    "}\n",
    "\"\"\""
   ]
  },
  {
   "cell_type": "code",
   "execution_count": 364,
   "id": "d7db16fd-1cb3-4c04-b33c-a7df46668425",
   "metadata": {},
   "outputs": [],
   "source": [
    "JSON_Output =\"\"\" {\n",
    "    \"Design\": [\n",
    "        {\n",
    "            \"Title\": \"Uppercase H\",\n",
    "            \"Coordinates\": [\n",
    "                [1, 0],\n",
    "                [1, 1],\n",
    "                [1, 2],\n",
    "                [1, 3],\n",
    "                [1, 4],\n",
    "                [3, 0],\n",
    "                [3, 1],\n",
    "                [3, 2],\n",
    "                [3, 3],\n",
    "                [3, 4],\n",
    "                [1, 2],\n",
    "                [2, 2],\n",
    "                [3, 2]\n",
    "            ],\n",
    "            \"Reasoning\": \"The design should resemble the letter 'H'. The two vertical lines are at columns 1 and 3, stretching from row 0 to row 4. The horizontal line connecting these two vertical lines is placed at row 2. Starting at the leftmost top section and working through the vertical lines before placing the middle horizontal line ensures legibility and order.\"\n",
    "        }\n",
    "    ]\n",
    "}\n",
    "\"\"\""
   ]
  },
  {
   "cell_type": "code",
   "execution_count": 365,
   "id": "a68f712c-5d3e-47c1-aee5-8c50093466c0",
   "metadata": {},
   "outputs": [
    {
     "name": "stdin",
     "output_type": "stream",
     "text": [
      " [1,3]\n"
     ]
    }
   ],
   "source": [
    "desired_xy = input()"
   ]
  },
  {
   "cell_type": "code",
   "execution_count": 347,
   "id": "643e4400-26cd-4ee7-8c29-dda4115822ab",
   "metadata": {},
   "outputs": [
    {
     "name": "stdin",
     "output_type": "stream",
     "text": [
      " [1,4]\n"
     ]
    }
   ],
   "source": [
    "actual_xy = input()"
   ]
  },
  {
   "cell_type": "code",
   "execution_count": 338,
   "id": "14a77730-81b8-44fd-b27e-beeb350bc062",
   "metadata": {},
   "outputs": [
    {
     "name": "stdin",
     "output_type": "stream",
     "text": [
      " [1,1], [1,2]\n"
     ]
    }
   ],
   "source": [
    "correct_xy = input()"
   ]
  },
  {
   "cell_type": "code",
   "execution_count": 366,
   "id": "c50b9160-e2ef-4335-8116-dbe0dee0c3a8",
   "metadata": {},
   "outputs": [],
   "source": [
    "Test_JSON_prompt = f\"\"\"\n",
    "You were previously provided the following prompt: \n",
    "START PROMPT \n",
    "{original_prompt} \n",
    "END PROMPT\n",
    "\n",
    "Your reponse to this prompt was the following JSON: \n",
    "START RESPONSE \n",
    "{JSON_Output} \n",
    "END RESPONSE\n",
    "\n",
    "While executing the coordinates that were previoulsy provided, blocks were correctly placed at {correct_xy}.\n",
    "However, an when trying to place a block at {desired_xy}, it was instead placed at {actual_xy}.\n",
    "\n",
    "This means there are currently blocks at {correct_xy} and {actual_xy}.\n",
    "\n",
    "You are now tasked with checking the design and recovering it if possible.\n",
    "\n",
    "If the design is recoverable by continuing with the current plan in a different order, then\n",
    "provide the coorindates where blocks still need to be placed in the JSON structure provided.\n",
    "\n",
    "If the design is not recoverable with the current plan, then try to recover it with a new layout that incorparates the already placed blocks. \n",
    "A new layout might mean a different orientation of the design, such as turning the design or laterally shifting it, which is allowed if needed. \n",
    "Note that any block that has already been placed cannot be removed and therefore must be used in any new designs.\n",
    "Make sure your design makes if you do a redisgn, then provide the coorindates where blocks still need to be placed at in the JSON structure provided.\n",
    "\n",
    "Make sure to follow the instructions from the original prompt if needed.\n",
    "\n",
    "If the design it not not recoverable at all, reply set the Title as \"Design is not recoverable.\" and provide no Coordinates.\n",
    "\"\"\"\n",
    "\n",
    "\n"
   ]
  },
  {
   "cell_type": "code",
   "execution_count": 367,
   "id": "a15badc8-8a4f-42ae-8e95-f2ae257be780",
   "metadata": {},
   "outputs": [
    {
     "name": "stdout",
     "output_type": "stream",
     "text": [
      "\n",
      "You were previously provided the following prompt: \n",
      "START PROMPT \n",
      "\n",
      "A drone us being used to place building blocks on a grid.\n",
      "You are being asked to come up with the drop off locations for the drone that create a specified design. \n",
      "The origin of the grid is [0,0] in the bottom left corner and the last point is [4,4] in the top right.\n",
      "The X axis goes from [0,0] to [4,0]. The Y axis goes from [0,0] to [0,4].\n",
      "Make sure none of your points exceed the [4,4] index limit. If they do, fix the design.\n",
      "Only Integers are allowed.\n",
      "\n",
      "Your Grid looks like this:\n",
      "\n",
      "4 x x x x x\n",
      "3 x x x x x\n",
      "2 x x x x x\n",
      "1 x x x x x\n",
      "0 x x x x x\n",
      "  0 1 2 3 4 \n",
      "\n",
      "You are being asked to design the following: An uppercase H\n",
      "\n",
      "Please provide the Title, Coordinates and your Reasoning in correct JSON format for the design.\n",
      "The Coordinates should be given in the specific order you would want them executed. \n",
      "\n",
      "\n",
      "Make sure the design is legible by thinking step by step as you choose points.\n",
      "Check the design before confirming it, such as for legibility and index limit of 4. \n",
      "If it is wrong, redo the design and then recheck until you find no errors using a step by step approach.\n",
      "Only return the JSON in the strucuture provided as it needs to be parsed with Python. Do not include any other text or symbols.\n",
      "\n",
      "Please use the following structure:\n",
      "\n",
      "{\n",
      "    \"Design\": [\n",
      "        {\n",
      "            \"Title\": \"Title of Design\",\n",
      "            \"Coordinates\": [\n",
      "                [x, y],\n",
      "                [x, y]\n",
      "            ],\n",
      "            \"Reasoning\": \"Your textual reseasoning here\"\n",
      "      }\n",
      "    ]\n",
      "}\n",
      " \n",
      "END PROMPT\n",
      "\n",
      "Your reponse to this prompt was the following JSON: \n",
      "START RESPONSE \n",
      " {\n",
      "    \"Design\": [\n",
      "        {\n",
      "            \"Title\": \"Uppercase H\",\n",
      "            \"Coordinates\": [\n",
      "                [1, 0],\n",
      "                [1, 1],\n",
      "                [1, 2],\n",
      "                [1, 3],\n",
      "                [1, 4],\n",
      "                [3, 0],\n",
      "                [3, 1],\n",
      "                [3, 2],\n",
      "                [3, 3],\n",
      "                [3, 4],\n",
      "                [1, 2],\n",
      "                [2, 2],\n",
      "                [3, 2]\n",
      "            ],\n",
      "            \"Reasoning\": \"The design should resemble the letter 'H'. The two vertical lines are at columns 1 and 3, stretching from row 0 to row 4. The horizontal line connecting these two vertical lines is placed at row 2. Starting at the leftmost top section and working through the vertical lines before placing the middle horizontal line ensures legibility and order.\"\n",
      "        }\n",
      "    ]\n",
      "}\n",
      " \n",
      "END RESPONSE\n",
      "\n",
      "While executing the coordinates that were previoulsy provided, blocks were correctly placed at [1,1], [1,2].\n",
      "However, an when trying to place a block at [1,3], it was instead placed at [1,4].\n",
      "\n",
      "This means there are currently blocks at [1,1], [1,2] and [1,4].\n",
      "\n",
      "You are now tasked with checking the design and recovering it if possible.\n",
      "\n",
      "If the design is recoverable by continuing with the current plan in a different order, then\n",
      "provide the coorindates where blocks still need to be placed in the JSON structure provided.\n",
      "\n",
      "If the design is not recoverable with the current plan, then try to recover it with a new layout that incorparates the already placed blocks. \n",
      "A new layout might mean a different orientation of the design, such as turning the design or laterally shifting it, which is allowed if needed. \n",
      "Note that any block that has already been placed cannot be removed and therefore must be used in any new designs.\n",
      "Make sure your design makes if you do a redisgn, then provide the coorindates where blocks still need to be placed at in the JSON structure provided.\n",
      "\n",
      "Make sure to follow the instructions from the original prompt if needed.\n",
      "\n",
      "If the design it not not recoverable at all, reply set the Title as \"Design is not recoverable.\" and provide no Coordinates.\n",
      "\n"
     ]
    }
   ],
   "source": [
    "print(Test_JSON_prompt)"
   ]
  },
  {
   "cell_type": "code",
   "execution_count": 368,
   "id": "a61be50f-4a9e-407f-8ee8-37accee67d97",
   "metadata": {},
   "outputs": [],
   "source": [
    "# Define the prompt\n",
    "prompt = Test_JSON_prompt\n",
    "\n",
    "# Send the request to OpenAI using the new ChatCompletion method\n",
    "response = client.chat.completions.create(\n",
    "    model=\"gpt-4o\",\n",
    "    response_format = {\"type\": \"json_object\"},\n",
    "    messages=[\n",
    "        {\n",
    "            \"role\": \"user\",\n",
    "            \"content\": prompt,\n",
    "        }\n",
    "    ],   \n",
    ")"
   ]
  },
  {
   "cell_type": "code",
   "execution_count": 369,
   "id": "83017895-84b3-4f0b-be8a-37d2e099c6aa",
   "metadata": {},
   "outputs": [
    {
     "name": "stdout",
     "output_type": "stream",
     "text": [
      "ChatCompletion(id='chatcmpl-9oFIAikB8HynZZh2CSZalXdMbbHpd', choices=[Choice(finish_reason='stop', index=0, logprobs=None, message=ChatCompletionMessage(content='{\\n    \"Design\": [\\n        {\\n            \"Title\": \"Uppercase H\",\\n            \"Coordinates\": [\\n                [1, 0],\\n                [3, 0],\\n                [3, 1],\\n                [3, 2],\\n                [3, 3],\\n                [3, 4],\\n                [1, 3],\\n                [2, 2],\\n                [3, 2]\\n            ],\\n            \"Reasoning\": \"To recover the design, we need to place the remaining blocks in a different order that accommodates the misplaced block at [1,4]. The two vertical lines are at columns 1 and 3, stretching from row 0 to 4, including the pre-placed blocks. The horizontal line connecting these two vertical lines will still be placed at row 2. The vertical line placements have been adjusted to ensure all blocks end up in their correct locations this time.\"\\n        }\\n    ]\\n}', role='assistant', function_call=None, tool_calls=None))], created=1721762210, model='gpt-4o-2024-05-13', object='chat.completion', service_tier=None, system_fingerprint='fp_400f27fa1f', usage=CompletionUsage(completion_tokens=191, prompt_tokens=905, total_tokens=1096))\n"
     ]
    }
   ],
   "source": [
    "print(response)"
   ]
  },
  {
   "cell_type": "code",
   "execution_count": 370,
   "id": "23eb5da7-ecd8-4bb5-a817-df1b711f3aa5",
   "metadata": {},
   "outputs": [
    {
     "name": "stdout",
     "output_type": "stream",
     "text": [
      "{\n",
      "    \"Design\": [\n",
      "        {\n",
      "            \"Title\": \"Uppercase H\",\n",
      "            \"Coordinates\": [\n",
      "                [1, 0],\n",
      "                [3, 0],\n",
      "                [3, 1],\n",
      "                [3, 2],\n",
      "                [3, 3],\n",
      "                [3, 4],\n",
      "                [1, 3],\n",
      "                [2, 2],\n",
      "                [3, 2]\n",
      "            ],\n",
      "            \"Reasoning\": \"To recover the design, we need to place the remaining blocks in a different order that accommodates the misplaced block at [1,4]. The two vertical lines are at columns 1 and 3, stretching from row 0 to 4, including the pre-placed blocks. The horizontal line connecting these two vertical lines will still be placed at row 2. The vertical line placements have been adjusted to ensure all blocks end up in their correct locations this time.\"\n",
      "        }\n",
      "    ]\n",
      "}\n"
     ]
    }
   ],
   "source": [
    "# Extract the response text\n",
    "response_text = response.choices[0].message.content\n",
    "print(response_text)"
   ]
  },
  {
   "cell_type": "code",
   "execution_count": 371,
   "id": "9394ed2e-a7ac-470b-b881-1781148ff4c6",
   "metadata": {},
   "outputs": [
    {
     "name": "stdout",
     "output_type": "stream",
     "text": [
      "[[1, 0], [3, 0], [3, 1], [3, 2], [3, 3], [3, 4], [1, 3], [2, 2], [3, 2]]\n"
     ]
    },
    {
     "data": {
      "image/png": "[encoded data removed]",
      "text/plain": [
       "<Figure size 640x480 with 1 Axes>"
      ]
     },
     "metadata": {},
     "output_type": "display_data"
    },
    {
     "name": "stdout",
     "output_type": "stream",
     "text": [
      "To recover the design, we need to place the remaining blocks in a different order that accommodates the misplaced block at [1,4]. The two vertical lines are at columns 1 and 3, stretching from row 0 to 4, including the pre-placed blocks. The horizontal line connecting these two vertical lines will still be placed at row 2. The vertical line placements have been adjusted to ensure all blocks end up in their correct locations this time.\n"
     ]
    }
   ],
   "source": [
    "# Load JSON data\n",
    "data = json.loads(response_text)\n",
    "\n",
    "# Loop through each design and plot\n",
    "for design in data['Design']:\n",
    "    title = design['Title']\n",
    "    coordinates = design['Coordinates']\n",
    "    print(coordinates)\n",
    "    plot_coordinates(title, coordinates)\n",
    "    print(design['Reasoning'])"
   ]
  },
  {
   "cell_type": "code",
   "execution_count": null,
   "id": "06496ccb-bc52-4c6a-a5bc-411908a6c19f",
   "metadata": {},
   "outputs": [],
   "source": []
  },
  {
   "cell_type": "code",
   "execution_count": null,
   "id": "f08481bc-aec6-46d3-939b-02cd455b473c",
   "metadata": {},
   "outputs": [],
   "source": []
  },
  {
   "cell_type": "code",
   "execution_count": null,
   "id": "6035e552-5b26-4937-b4f4-4e1487a4b8b3",
   "metadata": {},
   "outputs": [],
   "source": []
  },
  {
   "cell_type": "code",
   "execution_count": null,
   "id": "9443b933-2073-40e7-8461-944695161542",
   "metadata": {},
   "outputs": [],
   "source": []
  },
  {
   "cell_type": "code",
   "execution_count": null,
   "id": "bcb2b10f-1595-4d98-9cb3-9372c8b5ca20",
   "metadata": {},
   "outputs": [],
   "source": []
  },
  {
   "cell_type": "code",
   "execution_count": null,
   "id": "4d5a7acf-d356-4fc7-84c7-771f2d76c358",
   "metadata": {},
   "outputs": [],
   "source": []
  },
  {
   "cell_type": "code",
   "execution_count": 372,
   "id": "8f563028-58ed-49d9-a5b5-f7ef16874cb8",
   "metadata": {},
   "outputs": [
    {
     "name": "stdout",
     "output_type": "stream",
     "text": [
      "Uppercase H [[1, 0], [3, 0], [3, 1], [3, 2], [3, 3], [3, 4], [1, 3], [2, 2], [3, 2]]\n"
     ]
    }
   ],
   "source": [
    "# Parse JSON data\n",
    "data = json.loads(response_text)\n",
    "\n",
    "# Extract design title and coordinates\n",
    "design_title = data[\"Design\"][0][\"Title\"]\n",
    "desired_coordinates = data[\"Design\"][0][\"Coordinates\"]\n",
    "print(design_title, desired_coordinates)"
   ]
  },
  {
   "cell_type": "code",
   "execution_count": 395,
   "id": "09a1a132-6c78-4905-af29-b4f854d8a030",
   "metadata": {},
   "outputs": [],
   "source": [
    "def create_grid_representation(coordinates_to_plot, grid_size=(5, 5)):\n",
    "    \"\"\"\n",
    "    Creates a grid representation with 'o' for unspecified coordinates and 'x' for specified coordinates,\n",
    "    including labels for the x and y axes.\n",
    "\n",
    "    :param grid_size: Size of the grid (tuple of two integers, e.g., (5, 5) for a 5x5 grid)\n",
    "    :param coordinates: List of coordinates to be marked with 'x' (e.g., [[1, 2], [3, 4]])\n",
    "    :return: String representation of the grid with axis labels\n",
    "    \"\"\"\n",
    "    # Initialize the grid with 'o'\n",
    "    grid = [['o' for _ in range(grid_size[0])] for _ in range(grid_size[1])]\n",
    "\n",
    "    # Mark the specified coordinates with 'x'\n",
    "    for x, y in coordinates_to_plot:\n",
    "        grid[y][x] = 'x'\n",
    "\n",
    "    # Create the string representation\n",
    "    grid_representation = \"\"\n",
    "    for idx, row in enumerate(grid):\n",
    "        grid_representation += str(idx) + \" \" + \" \".join(row) + \"\\n\"\n",
    "\n",
    "    # Add bottom x-axis labels\n",
    "    grid_representation += \"  \" + \" \".join(map(str, range(grid_size[0]))) + \"\\n\"\n",
    "    \n",
    "    return grid_representation"
   ]
  },
  {
   "cell_type": "code",
   "execution_count": 396,
   "id": "0144e854-f31b-42a5-859f-989fe7441590",
   "metadata": {},
   "outputs": [
    {
     "name": "stdout",
     "output_type": "stream",
     "text": [
      "0 o x o x o\n",
      "1 o o o x o\n",
      "2 o o x x o\n",
      "3 o x o x o\n",
      "4 o o o x o\n",
      "  0 1 2 3 4\n",
      "\n"
     ]
    }
   ],
   "source": [
    "grid_representation = create_grid_representation(coordinates)\n",
    "print(grid_representation)"
   ]
  },
  {
   "cell_type": "code",
   "execution_count": 374,
   "id": "5c85f39c-9a34-47f9-9be4-34ecb00dcb5a",
   "metadata": {},
   "outputs": [
    {
     "ename": "SyntaxError",
     "evalue": "expected ':' (1655165721.py, line 1)",
     "output_type": "error",
     "traceback": [
      "\u001b[1;36m  Cell \u001b[1;32mIn[374], line 1\u001b[1;36m\u001b[0m\n\u001b[1;33m    def create_updated_prompt() #take in the previous prompt, the current scene, and determine the next steps\u001b[0m\n\u001b[1;37m                                ^\u001b[0m\n\u001b[1;31mSyntaxError\u001b[0m\u001b[1;31m:\u001b[0m expected ':'\n"
     ]
    }
   ],
   "source": [
    "def create_updated_prompt()\n",
    "\n",
    "#take in the previous prompt, the current scene, and determine the next steps\n",
    "\n",
    "#tuple of mistake point (mistake)\n",
    "#tuple for desired point\n",
    "\n",
    "#list of tuples for successful drops "
   ]
  }
 ],
 "metadata": {
  "kernelspec": {
   "display_name": "Python 3 (ipykernel)",
   "language": "python",
   "name": "python3"
  },
  "language_info": {
   "codemirror_mode": {
    "name": "ipython",
    "version": 3
   },
   "file_extension": ".py",
   "mimetype": "text/x-python",
   "name": "python",
   "nbconvert_exporter": "python",
   "pygments_lexer": "ipython3",
   "version": "3.12.3"
  }
 },
 "nbformat": 4,
 "nbformat_minor": 5
}
