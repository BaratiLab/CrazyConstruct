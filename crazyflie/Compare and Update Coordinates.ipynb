{
 "cells": [
  {
   "cell_type": "code",
   "execution_count": 27,
   "id": "ee3292cb-1280-4441-8b23-510b7a03be62",
   "metadata": {},
   "outputs": [],
   "source": [
    "import openai\n",
    "from openai import OpenAI\n",
    "import os\n",
    "from dotenv import load_dotenv\n",
    "import matplotlib.pyplot as plt\n",
    "import ast\n",
    "from pathlib import Path\n",
    "import json\n",
    "import numpy as np\n",
    "import functions"
   ]
  },
  {
   "cell_type": "code",
   "execution_count": 28,
   "id": "2ffc8eff-6229-4d8c-8b18-54f835973f03",
   "metadata": {},
   "outputs": [],
   "source": [
    "# Specify the path to the .env file\n",
    "env_path = Path(r'C:\\Users\\CrazyFlie\\Documents\\Nonuploadable_Git\\.env')\n",
    "\n",
    "# Load the .env file\n",
    "load_dotenv(dotenv_path=env_path)\n",
    "\n",
    "# Get the OpenAI API key from environment variables\n",
    "api_key = os.getenv(\"OPENAI_API_KEY\")\n",
    "\n",
    "client = OpenAI(\n",
    "    api_key=api_key\n",
    ")"
   ]
  },
  {
   "cell_type": "code",
   "execution_count": 90,
   "id": "ae14292a-b161-4be1-8be8-224e17c85733",
   "metadata": {},
   "outputs": [],
   "source": [
    "original_prompt = \"\"\"\n",
    "A drone us being used to place building blocks on a grid.\n",
    "You are being asked to come up with the drop off locations for the drone that create a specified design. \n",
    "The origin of the grid is [0,0] in the bottom left corner and the last point is [4,4] in the top right.\n",
    "The X axis goes from [0,0] to [4,0]. The Y axis goes from [0,0] to [0,4].\n",
    "Make sure none of your points exceed the [4,4] index limit. If they do, fix the design.\n",
    "Only Integers are allowed.\n",
    "\n",
    "Your Grid looks like this, were \"o\" marks an empty spot:\n",
    "\n",
    "4 o o o o o\n",
    "3 o o o o o\n",
    "2 o o o o o\n",
    "1 o o o o o\n",
    "0 o o o o o\n",
    "  0 1 2 3 4 \n",
    "\n",
    "You are being asked to design the following: Smiley Face\n",
    "\n",
    "Please provide the Title, Coordinates and your Reasoning in correct JSON format for the design.\n",
    "The Coordinates should be given in the specific order you would want them executed. \n",
    "\n",
    "\n",
    "Make sure the design is legible by thinking step by step as you choose points.\n",
    "Check the design before confirming it, such as for legibility and index limit of 4. \n",
    "If it is wrong, redo the design and then recheck until you find no errors using a step by step approach.\n",
    "Only return the JSON in the strucuture provided as it needs to be parsed with Python. Do not include any other text or symbols.\n",
    "\n",
    "Please use the following structure:\n",
    "\n",
    "{\n",
    "    \"Design\": [\n",
    "        {\n",
    "            \"Title\": \"Title of Design\",\n",
    "            \"Coordinates\": [\n",
    "                [x, y],\n",
    "                [x, y]\n",
    "            ],\n",
    "            \"Reasoning\": \"Your textual reseasoning here\"\n",
    "      }\n",
    "    ]\n",
    "}\n",
    "\"\"\""
   ]
  },
  {
   "cell_type": "code",
   "execution_count": 91,
   "id": "d7db16fd-1cb3-4c04-b33c-a7df46668425",
   "metadata": {},
   "outputs": [],
   "source": [
    "JSON_Output =\"\"\" {\n",
    "    \"Design\": [\n",
    "        {\n",
    "            \"Title\": \"Smiley Face\",\n",
    "            \"Coordinates\": [\n",
    "                [1, 3],  [3, 3],  [0, 1],  [4, 1],  [1, 0],  [2, 0],  [3, 0]\n",
    "            ],\n",
    "            \"Reasoning\": \"To create a smiley face design on the grid. The eyes are represented by points at [1, 3] and [3, 3]. The mouth is formed using points at [0, 1], [4, 1], completing at points [1, 0], [2, 0], [3, 0]. This creates a simple and legible smiley face within the index limit of 4. The coordinates are chosen to form a circular-style smile and eyes.\"\n",
    "        }\n",
    "    ]\n",
    "}\n",
    "\"\"\""
   ]
  },
  {
   "cell_type": "code",
   "execution_count": 81,
   "id": "a68f712c-5d3e-47c1-aee5-8c50093466c0",
   "metadata": {},
   "outputs": [
    {
     "name": "stdin",
     "output_type": "stream",
     "text": [
      " [1,3]\n"
     ]
    }
   ],
   "source": [
    "desired_xy = input()"
   ]
  },
  {
   "cell_type": "code",
   "execution_count": 82,
   "id": "643e4400-26cd-4ee7-8c29-dda4115822ab",
   "metadata": {},
   "outputs": [
    {
     "name": "stdin",
     "output_type": "stream",
     "text": [
      " [1,4]\n"
     ]
    }
   ],
   "source": [
    "actual_xy = input()"
   ]
  },
  {
   "cell_type": "code",
   "execution_count": 83,
   "id": "14a77730-81b8-44fd-b27e-beeb350bc062",
   "metadata": {},
   "outputs": [
    {
     "name": "stdin",
     "output_type": "stream",
     "text": [
      " (None so far)\n"
     ]
    }
   ],
   "source": [
    "correct_xy = input()"
   ]
  },
  {
   "cell_type": "code",
   "execution_count": 92,
   "id": "c50b9160-e2ef-4335-8116-dbe0dee0c3a8",
   "metadata": {},
   "outputs": [],
   "source": [
    "Test_JSON_prompt = f\"\"\"\n",
    "You were previously provided the following prompt: \n",
    "START PROMPT \n",
    "{original_prompt} \n",
    "END PROMPT\n",
    "\n",
    "Your reponse to this prompt was the following JSON: \n",
    "START RESPONSE \n",
    "{JSON_Output} \n",
    "END RESPONSE\n",
    "\n",
    "While executing the coordinates that were previoulsy provided, blocks were correctly placed at {correct_xy}.\n",
    "However, an when trying to place a block at {desired_xy}, it was instead placed at {actual_xy}.\n",
    "\n",
    "This means there are currently blocks at {correct_xy} and {actual_xy}, so they don't need to be listed in your output.\n",
    "\n",
    "You are now tasked with checking the design and recovering it if possible.\n",
    "\n",
    "If the design is recoverable by continuing with the current plan in a different order, then\n",
    "provide the coorindates where blocks still need to be placed in the JSON structure provided.\n",
    "\n",
    "If the design is not recoverable with the current plan, then try to recover it with a new layout that incorparates the already placed blocks. \n",
    "A new layout might mean a different orientation of the design, such as rotating by 90 degrees or laterally shifting it, which is allowed if needed. \n",
    "Note that any block that has already been placed cannot be removed and therefore must be used in any new designs.\n",
    "Make sure your design makes if you do a redisgn, then provide the coorindates where blocks still need to be placed at in the JSON structure provided.\n",
    "\n",
    "Make sure to follow the instructions from the original prompt if needed.\n",
    "\n",
    "If the design it not not recoverable at all, reply set the Title as \"Design is not recoverable.\" and provide no Coordinates.\n",
    "\"\"\"\n",
    "\n",
    "\n"
   ]
  },
  {
   "cell_type": "code",
   "execution_count": 93,
   "id": "a15badc8-8a4f-42ae-8e95-f2ae257be780",
   "metadata": {},
   "outputs": [
    {
     "name": "stdout",
     "output_type": "stream",
     "text": [
      "\n",
      "You were previously provided the following prompt: \n",
      "START PROMPT \n",
      "\n",
      "A drone us being used to place building blocks on a grid.\n",
      "You are being asked to come up with the drop off locations for the drone that create a specified design. \n",
      "The origin of the grid is [0,0] in the bottom left corner and the last point is [4,4] in the top right.\n",
      "The X axis goes from [0,0] to [4,0]. The Y axis goes from [0,0] to [0,4].\n",
      "Make sure none of your points exceed the [4,4] index limit. If they do, fix the design.\n",
      "Only Integers are allowed.\n",
      "\n",
      "Your Grid looks like this, were \"o\" marks an empty spot:\n",
      "\n",
      "4 o o o o o\n",
      "3 o o o o o\n",
      "2 o o o o o\n",
      "1 o o o o o\n",
      "0 o o o o o\n",
      "  0 1 2 3 4 \n",
      "\n",
      "You are being asked to design the following: Smiley Face\n",
      "\n",
      "Please provide the Title, Coordinates and your Reasoning in correct JSON format for the design.\n",
      "The Coordinates should be given in the specific order you would want them executed. \n",
      "\n",
      "\n",
      "Make sure the design is legible by thinking step by step as you choose points.\n",
      "Check the design before confirming it, such as for legibility and index limit of 4. \n",
      "If it is wrong, redo the design and then recheck until you find no errors using a step by step approach.\n",
      "Only return the JSON in the strucuture provided as it needs to be parsed with Python. Do not include any other text or symbols.\n",
      "\n",
      "Please use the following structure:\n",
      "\n",
      "{\n",
      "    \"Design\": [\n",
      "        {\n",
      "            \"Title\": \"Title of Design\",\n",
      "            \"Coordinates\": [\n",
      "                [x, y],\n",
      "                [x, y]\n",
      "            ],\n",
      "            \"Reasoning\": \"Your textual reseasoning here\"\n",
      "      }\n",
      "    ]\n",
      "}\n",
      " \n",
      "END PROMPT\n",
      "\n",
      "Your reponse to this prompt was the following JSON: \n",
      "START RESPONSE \n",
      " {\n",
      "    \"Design\": [\n",
      "        {\n",
      "            \"Title\": \"Smiley Face\",\n",
      "            \"Coordinates\": [\n",
      "                [1, 3],  [3, 3],  [0, 1],  [4, 1],  [1, 0],  [2, 0],  [3, 0]\n",
      "            ],\n",
      "            \"Reasoning\": \"To create a smiley face design on the grid. The eyes are represented by points at [1, 3] and [3, 3]. The mouth is formed using points at [0, 1], [4, 1], completing at points [1, 0], [2, 0], [3, 0]. This creates a simple and legible smiley face within the index limit of 4. The coordinates are chosen to form a circular-style smile and eyes.\"\n",
      "        }\n",
      "    ]\n",
      "}\n",
      " \n",
      "END RESPONSE\n",
      "\n",
      "While executing the coordinates that were previoulsy provided, blocks were correctly placed at (None so far).\n",
      "However, an when trying to place a block at [1,3], it was instead placed at [1,4].\n",
      "\n",
      "This means there are currently blocks at (None so far) and [1,4], so they don't need to be listed in your output.\n",
      "\n",
      "You are now tasked with checking the design and recovering it if possible.\n",
      "\n",
      "If the design is recoverable by continuing with the current plan in a different order, then\n",
      "provide the coorindates where blocks still need to be placed in the JSON structure provided.\n",
      "\n",
      "If the design is not recoverable with the current plan, then try to recover it with a new layout that incorparates the already placed blocks. \n",
      "A new layout might mean a different orientation of the design, such as rotating by 90 degrees or laterally shifting it, which is allowed if needed. \n",
      "Note that any block that has already been placed cannot be removed and therefore must be used in any new designs.\n",
      "Make sure your design makes if you do a redisgn, then provide the coorindates where blocks still need to be placed at in the JSON structure provided.\n",
      "\n",
      "Make sure to follow the instructions from the original prompt if needed.\n",
      "\n",
      "If the design it not not recoverable at all, reply set the Title as \"Design is not recoverable.\" and provide no Coordinates.\n",
      "\n"
     ]
    }
   ],
   "source": [
    "print(Test_JSON_prompt)"
   ]
  },
  {
   "cell_type": "code",
   "execution_count": 94,
   "id": "a61be50f-4a9e-407f-8ee8-37accee67d97",
   "metadata": {},
   "outputs": [],
   "source": [
    "# Define the prompt\n",
    "prompt = Test_JSON_prompt\n",
    "\n",
    "# Send the request to OpenAI using the new ChatCompletion method\n",
    "response = client.chat.completions.create(\n",
    "    model=\"gpt-4o\",\n",
    "    response_format = {\"type\": \"json_object\"},\n",
    "    messages=[\n",
    "        {\n",
    "            \"role\": \"user\",\n",
    "            \"content\": prompt,\n",
    "        }\n",
    "    ],   \n",
    ")"
   ]
  },
  {
   "cell_type": "code",
   "execution_count": 95,
   "id": "83017895-84b3-4f0b-be8a-37d2e099c6aa",
   "metadata": {},
   "outputs": [
    {
     "name": "stdout",
     "output_type": "stream",
     "text": [
      "ChatCompletion(id='chatcmpl-9oZzY44MfqrxaX9M6GedE46MLQ5gC', choices=[Choice(finish_reason='stop', index=0, logprobs=None, message=ChatCompletionMessage(content='{\\n    \"Design\": [\\n        {\\n            \"Title\": \"Smiley Face\",\\n            \"Coordinates\": [\\n                [3, 3],\\n                [0, 2],  \\n                [4, 2],  \\n                [1, 0],  \\n                [2, 0],  \\n                [3, 0]   \\n            ],\\n            \"Reasoning\": \"Since the point at [1,3] was mistakenly placed at [1,4], a recovery plan is implemented. The new point at [1,4] can be used as one of the eyes, and the remaining points will be adjusted accordingly. The new coordinates for the mouth start one row higher to keep the design coherent.\"\\n        }\\n    ]\\n}', role='assistant', function_call=None, tool_calls=None))], created=1721841780, model='gpt-4o-2024-05-13', object='chat.completion', service_tier=None, system_fingerprint='fp_400f27fa1f', usage=CompletionUsage(completion_tokens=149, prompt_tokens=905, total_tokens=1054))\n"
     ]
    }
   ],
   "source": [
    "print(response)"
   ]
  },
  {
   "cell_type": "code",
   "execution_count": 96,
   "id": "23eb5da7-ecd8-4bb5-a817-df1b711f3aa5",
   "metadata": {},
   "outputs": [
    {
     "name": "stdout",
     "output_type": "stream",
     "text": [
      "{\n",
      "    \"Design\": [\n",
      "        {\n",
      "            \"Title\": \"Smiley Face\",\n",
      "            \"Coordinates\": [\n",
      "                [3, 3],\n",
      "                [0, 2],  \n",
      "                [4, 2],  \n",
      "                [1, 0],  \n",
      "                [2, 0],  \n",
      "                [3, 0]   \n",
      "            ],\n",
      "            \"Reasoning\": \"Since the point at [1,3] was mistakenly placed at [1,4], a recovery plan is implemented. The new point at [1,4] can be used as one of the eyes, and the remaining points will be adjusted accordingly. The new coordinates for the mouth start one row higher to keep the design coherent.\"\n",
      "        }\n",
      "    ]\n",
      "}\n"
     ]
    }
   ],
   "source": [
    "# Extract the response text\n",
    "response_text = response.choices[0].message.content\n",
    "print(response_text)"
   ]
  },
  {
   "cell_type": "code",
   "execution_count": 97,
   "id": "9394ed2e-a7ac-470b-b881-1781148ff4c6",
   "metadata": {},
   "outputs": [
    {
     "name": "stdout",
     "output_type": "stream",
     "text": [
      "[[3, 3], [0, 2], [4, 2], [1, 0], [2, 0], [3, 0]]\n"
     ]
    },
    {
     "data": {
      "image/png": "[encoded data removed]",
      "text/plain": [
       "<Figure size 640x480 with 1 Axes>"
      ]
     },
     "metadata": {},
     "output_type": "display_data"
    },
    {
     "name": "stdout",
     "output_type": "stream",
     "text": [
      "Since the point at [1,3] was mistakenly placed at [1,4], a recovery plan is implemented. The new point at [1,4] can be used as one of the eyes, and the remaining points will be adjusted accordingly. The new coordinates for the mouth start one row higher to keep the design coherent.\n"
     ]
    }
   ],
   "source": [
    "# Load JSON data\n",
    "data = json.loads(response_text)\n",
    "\n",
    "# Loop through each design and plot\n",
    "for design in data['Design']:\n",
    "    title = design['Title']\n",
    "    coordinates = design['Coordinates']\n",
    "    print(coordinates)\n",
    "    plot_coordinates(title, coordinates)\n",
    "    print(design['Reasoning'])"
   ]
  },
  {
   "cell_type": "code",
   "execution_count": null,
   "id": "06496ccb-bc52-4c6a-a5bc-411908a6c19f",
   "metadata": {},
   "outputs": [],
   "source": []
  },
  {
   "cell_type": "code",
   "execution_count": null,
   "id": "f08481bc-aec6-46d3-939b-02cd455b473c",
   "metadata": {},
   "outputs": [],
   "source": []
  },
  {
   "cell_type": "code",
   "execution_count": null,
   "id": "6035e552-5b26-4937-b4f4-4e1487a4b8b3",
   "metadata": {},
   "outputs": [],
   "source": []
  },
  {
   "cell_type": "code",
   "execution_count": null,
   "id": "9443b933-2073-40e7-8461-944695161542",
   "metadata": {},
   "outputs": [],
   "source": []
  },
  {
   "cell_type": "code",
   "execution_count": null,
   "id": "bcb2b10f-1595-4d98-9cb3-9372c8b5ca20",
   "metadata": {},
   "outputs": [],
   "source": []
  },
  {
   "cell_type": "code",
   "execution_count": null,
   "id": "4d5a7acf-d356-4fc7-84c7-771f2d76c358",
   "metadata": {},
   "outputs": [],
   "source": []
  },
  {
   "cell_type": "code",
   "execution_count": 20,
   "id": "8f563028-58ed-49d9-a5b5-f7ef16874cb8",
   "metadata": {},
   "outputs": [
    {
     "name": "stdout",
     "output_type": "stream",
     "text": [
      "Uppercase H [[1, 3], [1, 0], [3, 0], [3, 1], [3, 2], [3, 3], [2, 2]]\n"
     ]
    }
   ],
   "source": [
    "# Parse JSON data\n",
    "data = json.loads(response_text)\n",
    "\n",
    "# Extract design title and coordinates\n",
    "design_title = data[\"Design\"][0][\"Title\"]\n",
    "desired_coordinates = data[\"Design\"][0][\"Coordinates\"]\n",
    "print(design_title, desired_coordinates)"
   ]
  },
  {
   "cell_type": "code",
   "execution_count": 25,
   "id": "0144e854-f31b-42a5-859f-989fe7441590",
   "metadata": {},
   "outputs": [
    {
     "name": "stdout",
     "output_type": "stream",
     "text": [
      "4 o o o o o\n",
      "3 o x o x o\n",
      "2 o o x x o\n",
      "1 o o o x o\n",
      "0 o x o x o\n",
      "  0 1 2 3 4\n",
      "\n"
     ]
    }
   ],
   "source": [
    "grid_representation = create_grid_representation(coordinates)\n",
    "print(grid_representation)"
   ]
  },
  {
   "cell_type": "code",
   "execution_count": 374,
   "id": "5c85f39c-9a34-47f9-9be4-34ecb00dcb5a",
   "metadata": {},
   "outputs": [
    {
     "ename": "SyntaxError",
     "evalue": "expected ':' (1655165721.py, line 1)",
     "output_type": "error",
     "traceback": [
      "\u001b[1;36m  Cell \u001b[1;32mIn[374], line 1\u001b[1;36m\u001b[0m\n\u001b[1;33m    def create_updated_prompt() #take in the previous prompt, the current scene, and determine the next steps\u001b[0m\n\u001b[1;37m                                ^\u001b[0m\n\u001b[1;31mSyntaxError\u001b[0m\u001b[1;31m:\u001b[0m expected ':'\n"
     ]
    }
   ],
   "source": [
    "def create_updated_prompt()\n",
    "\n",
    "#take in the previous prompt, the current scene, and determine the next steps\n",
    "\n",
    "#tuple of mistake point (mistake)\n",
    "#tuple for desired point\n",
    "\n",
    "#list of tuples for successful drops "
   ]
  }
 ],
 "metadata": {
  "kernelspec": {
   "display_name": "Python 3 (ipykernel)",
   "language": "python",
   "name": "python3"
  },
  "language_info": {
   "codemirror_mode": {
    "name": "ipython",
    "version": 3
   },
   "file_extension": ".py",
   "mimetype": "text/x-python",
   "name": "python",
   "nbconvert_exporter": "python",
   "pygments_lexer": "ipython3",
   "version": "3.12.3"
  }
 },
 "nbformat": 4,
 "nbformat_minor": 5
}
