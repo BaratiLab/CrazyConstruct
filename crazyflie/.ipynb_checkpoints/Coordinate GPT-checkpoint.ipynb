{
 "cells": [
  {
   "cell_type": "code",
   "execution_count": 1,
   "id": "346c28c4-a7a7-47f3-b336-0032efe6e8da",
   "metadata": {},
   "outputs": [],
   "source": [
    "import openai\n",
    "from openai import OpenAI\n",
    "import os\n",
    "from dotenv import load_dotenv\n",
    "import matplotlib.pyplot as plt\n",
    "import ast\n",
    "from pathlib import Path\n",
    "import json"
   ]
  },
  {
   "cell_type": "code",
   "execution_count": 391,
   "id": "f9d4c9c1-dc18-4b00-a577-f84fbadbe2cb",
   "metadata": {},
   "outputs": [],
   "source": [
    "# def plot_coordinates(title, list_of_coordinates):# Define the grid size\n",
    "#     grid_size = 25\n",
    "    \n",
    "#     # Create the grid with default color value (e.g., 0)\n",
    "#     grid = np.zeros((grid_size, grid_size))\n",
    "    \n",
    "#     # Set the color value for the selected coordinates (e.g., 1)\n",
    "#     for row, col in list_of_coordinates:\n",
    "#         grid[row][col] = 1\n",
    "    \n",
    "#     fig, ax = plt.subplots()\n",
    "#     cax = ax.matshow(grid, cmap='plasma', origin='lower')\n",
    "    \n",
    "#     # Move the x-axis to the bottom\n",
    "#     ax.xaxis.set_ticks_position('bottom')\n",
    "#     ax.xaxis.set_label_position('bottom')\n",
    "    \n",
    "#     # Set ticks and labels\n",
    "#     ax.set_xticks(range(grid_size))\n",
    "#     ax.set_yticks(range(grid_size))\n",
    "#     ax.set_xticklabels(range(grid_size))\n",
    "#     ax.set_yticklabels(range(grid_size))\n",
    "    \n",
    "#     # Add red dots on points not selected\n",
    "#     for row in range(grid_size):\n",
    "#         for col in range(grid_size):\n",
    "#             if grid[row][col] == 0:\n",
    "#                 ax.plot(col, row, 'ro') \n",
    "    \n",
    "#     # Add X on the points that are selected\n",
    "#     for row in range(grid_size):\n",
    "#         for col in range(grid_size):\n",
    "#             if grid[row][col] == 1:\n",
    "#                 ax.text(col, row, 'X', va='center', ha='center', color='Black', weight='bold')\n",
    "    \n",
    "#     plt.title(title)\n",
    "#     plt.grid(True)\n",
    "#     plt.show()"
   ]
  },
  {
   "cell_type": "code",
   "execution_count": 412,
   "id": "43e75f37-7419-4a0d-962e-71def239dd60",
   "metadata": {},
   "outputs": [],
   "source": [
    "import numpy as np\n",
    "import matplotlib.pyplot as plt\n",
    "\n",
    "def plot_coordinates(title, list_of_coordinates):\n",
    "    grid_size = 25  # Define the grid size\n",
    "    \n",
    "    # Create the grid with default color value (e.g., 0)\n",
    "    grid = np.zeros((grid_size, grid_size))\n",
    "    \n",
    "    # Set the color value for the selected coordinates (e.g., 1)\n",
    "    for x, y in list_of_coordinates:\n",
    "        grid[y][x] = 1  # Note: row and col are switched here\n",
    "    \n",
    "    fig, ax = plt.subplots()\n",
    "    cax = ax.matshow(grid, cmap='plasma', origin='lower')\n",
    "    \n",
    "    # Move the x-axis to the bottom\n",
    "    ax.xaxis.set_ticks_position('bottom')\n",
    "    ax.xaxis.set_label_position('bottom')\n",
    "    \n",
    "    # Set ticks and labels\n",
    "    ax.set_xticks(range(grid_size))\n",
    "    ax.set_yticks(range(grid_size))\n",
    "    ax.set_xticklabels(range(grid_size))\n",
    "    ax.set_yticklabels(range(grid_size))\n",
    "    \n",
    "    # Add red dots on points not selected\n",
    "    for y in range(grid_size):\n",
    "        for x in range(grid_size):\n",
    "            if grid[y][x] == 0:\n",
    "                ax.plot(x, y, 'ro')  # Plot red dots for unselected points\n",
    "    \n",
    "    # Add X on the points that are selected\n",
    "    for y in range(grid_size):\n",
    "        for x in range(grid_size):\n",
    "            if grid[y][x] == 1:\n",
    "                ax.text(x, y, 'X', va='center', ha='center', color='Black', weight='bold')\n",
    "    \n",
    "    plt.title(title)\n",
    "    plt.grid(True)\n",
    "    plt.show()\n"
   ]
  },
  {
   "cell_type": "code",
   "execution_count": 413,
   "id": "9f62693c-311c-4577-b853-f33b20e6394c",
   "metadata": {},
   "outputs": [],
   "source": [
    "def plot_all_designs(data):\n",
    "    grid_size = 5\n",
    "    fig, ax = plt.subplots()\n",
    "    \n",
    "    # Loop through each design and plot\n",
    "    for design in data['Designs']:\n",
    "        title = design['Title']\n",
    "        coordinates = design['Coordinates']\n",
    "        plot_coordinates(title, coordinates, ax)\n",
    "    \n",
    "    # Set grid and axis labels\n",
    "    ax.set_xticks(range(grid_size))\n",
    "    ax.set_yticks(range(grid_size))\n",
    "    ax.set_xticklabels(range(grid_size))\n",
    "    ax.set_yticklabels(range(grid_size))\n",
    "    \n",
    "    plt.grid(True)\n",
    "    plt.show()"
   ]
  },
  {
   "cell_type": "code",
   "execution_count": 414,
   "id": "73ebf641-c1a3-4507-9a4f-3b7c26f65cde",
   "metadata": {},
   "outputs": [],
   "source": [
    "# Specify the path to the .env file\n",
    "env_path = Path(r'C:\\Users\\CrazyFlie\\Documents\\Nonuploadable_Git\\.env')\n",
    "\n",
    "# Load the .env file\n",
    "load_dotenv(dotenv_path=env_path)\n",
    "\n",
    "# Get the OpenAI API key from environment variables\n",
    "api_key = os.getenv(\"OPENAI_API_KEY\")\n",
    "\n",
    "client = OpenAI(\n",
    "    api_key=api_key\n",
    ")"
   ]
  },
  {
   "cell_type": "code",
   "execution_count": 415,
   "id": "346e7e5a-5854-4243-a753-895d4b8ac213",
   "metadata": {},
   "outputs": [],
   "source": [
    "prompt1 = \"\"\"\n",
    "Determine coordinates to form the letter \"E\" in a 10 by 10 grid. \n",
    "Provide only a list of points that make up the design.\n",
    "Points cannot be reused.\n",
    "The coordinates should be provided in a list format suitable for plotting in Python using matplotlib.\n",
    "There should be no other text in the response, only the list as specified.\n",
    "The coordinates should be in the format (x, y).\n",
    "For example, '[(x, y), (x, y), (x, y)]' is a correctly formatted list.\n",
    "\"\"\""
   ]
  },
  {
   "cell_type": "code",
   "execution_count": 416,
   "id": "7d57e42c-b7ef-4be6-afa5-02e1709c5244",
   "metadata": {},
   "outputs": [],
   "source": [
    "prompt2 = \"\"\"\n",
    "A drone us being used to place building blocks on a 5 by 5 grid.\n",
    "The first coordinate of the grid is (0,0) in the bottom right corner and the last is (4,4) in the top left.\n",
    "You are being asked to come up with the drop off locations for the drone that create a design of your choice.\n",
    "The drone needs the locations in the format of '[(x, y), (x, y), (x, y)]' so that its Python script can access it. \n",
    "Before your provide the output list, ensure it fits the requested format.\n",
    "Please provide the Design Title and Coordinates in correct JSON format for 4 different designs that you come up with.\n",
    "Only return the JSON as I need to parse it with Python. Do not include any other text or symbols.\n",
    "\n",
    "Please use the following structure:\n",
    "\n",
    "{\n",
    "    \"Designs\": [\n",
    "        {\n",
    "            \"Title\": \"Diagonal Line\",\n",
    "            \"Coordinates\": [\n",
    "                [x, y],\n",
    "                [x, y]\n",
    "            ]\n",
    "      }\n",
    "    ]\n",
    "}\n",
    "\"\"\""
   ]
  },
  {
   "cell_type": "code",
   "execution_count": 599,
   "id": "7092544a-a5cc-4593-a653-fe0c34c540e2",
   "metadata": {},
   "outputs": [],
   "source": [
    "prompt3 = \"\"\"\n",
    "A drone us being used to place building blocks on a grid.\n",
    "You are being asked to come up with the drop off locations for the drone that create a specified design. \n",
    "The origin of the grid is [0,0] in the bottom left corner and the last point is [24,24] in the top right.\n",
    "The X axis goes from [0,0] to [24,0]. The Y axis goes from [0,0] to [0,24].\n",
    "Make sure none of your points exceed the [24,24] index limit. If they do, fix the design.\n",
    "Only Integers are allowed.\n",
    "\n",
    "Please provide the Title and Coordinates in correct JSON format for the Design of the word \"HELLO\".\n",
    "Make sure your design makes sense and would be legible. Since it is a word, humans read from left to right.\n",
    "You can provide a seperate design for each letter, but when built on the same grid they should form the specified design.\n",
    "Make sure the letters are not upside down or backwards otherwise it won't be legible. \n",
    "Make sure the design is legible by thinking step by step as you choose points.\n",
    "Check the design before confirming it, such as for legibility and index limit of 24. \n",
    "If it is wrong, redo the design and then recheck until you find no errors using a step by step approach.\n",
    "Only return the JSON as I need to parse it with Python. Do not include any other text or symbols.\n",
    "\n",
    "Please use the following structure:\n",
    "\n",
    "{\n",
    "    \"Designs\": [\n",
    "        {\n",
    "            \"Title\": \"Title of Design\",\n",
    "            \"Coordinates\": [\n",
    "                [x, y],\n",
    "                [x, y]\n",
    "            ]\n",
    "      }\n",
    "    ]\n",
    "}\n",
    "\"\"\""
   ]
  },
  {
   "cell_type": "code",
   "execution_count": 600,
   "id": "b7a1e8b8-3f24-4f34-9896-3426ec30e20c",
   "metadata": {},
   "outputs": [],
   "source": [
    "# Define the prompt\n",
    "prompt = prompt3\n",
    "\n",
    "# Send the request to OpenAI using the new ChatCompletion method\n",
    "response = client.chat.completions.create(\n",
    "    model=\"gpt-4o\",\n",
    "    response_format = {\"type\": \"json_object\"},\n",
    "    messages=[\n",
    "        {\n",
    "            \"role\": \"user\",\n",
    "            \"content\": prompt,\n",
    "        }\n",
    "    ],   \n",
    ")"
   ]
  },
  {
   "cell_type": "code",
   "execution_count": 601,
   "id": "b2e1a2a2-df4d-41af-8398-fc56d36f525f",
   "metadata": {},
   "outputs": [
    {
     "name": "stdout",
     "output_type": "stream",
     "text": [
      "ChatCompletion(id='chatcmpl-9mn9ovp7uIGfxIA9VAt0lPPTGOyUQ', choices=[Choice(finish_reason='stop', index=0, logprobs=None, message=ChatCompletionMessage(content='{\\n    \"Designs\": [\\n        {\\n            \"Title\": \"HELLO\",\\n            \"Coordinates\": [\\n                [1, 0], [1, 1], [1, 2], [1, 3], [1, 4], [2, 2], [3, 2], [4, 0], [4, 1], [4, 2], [4, 3], [4, 4],   [6, 0], [6, 1], [6, 2], [6, 3], [6, 4], [7, 2], [8, 2], [9, 0], [9, 1], [9, 2], [9, 3], [9, 4], [11, 0], [11, 1], [11, 2], [11, 3], [11, 4], [12, 0], [12, 4], [13, 0], [13, 4], [14, 0], [14, 4],   [16, 0], [16, 1], [16, 2], [16, 3], [16, 4], [17, 0], [17, 4], [18, 1], [18, 2], [18, 3], [19, 2], [20, 2], [21, 0], [21, 4], [22, 0], [22, 4],   []\\n            ]\\n        }\\n    ]\\n}', role='assistant', function_call=None, tool_calls=None))], created=1721415732, model='gpt-4o-2024-05-13', object='chat.completion', service_tier=None, system_fingerprint='fp_c4e5b6fa31', usage=CompletionUsage(completion_tokens=340, prompt_tokens=354, total_tokens=694))\n"
     ]
    }
   ],
   "source": [
    "print(response)"
   ]
  },
  {
   "cell_type": "code",
   "execution_count": 602,
   "id": "f8278eff-ab90-4ca3-9f45-ee8bb44c3a42",
   "metadata": {},
   "outputs": [
    {
     "name": "stdout",
     "output_type": "stream",
     "text": [
      "{\n",
      "    \"Designs\": [\n",
      "        {\n",
      "            \"Title\": \"HELLO\",\n",
      "            \"Coordinates\": [\n",
      "                [1, 0], [1, 1], [1, 2], [1, 3], [1, 4], [2, 2], [3, 2], [4, 0], [4, 1], [4, 2], [4, 3], [4, 4],   [6, 0], [6, 1], [6, 2], [6, 3], [6, 4], [7, 2], [8, 2], [9, 0], [9, 1], [9, 2], [9, 3], [9, 4], [11, 0], [11, 1], [11, 2], [11, 3], [11, 4], [12, 0], [12, 4], [13, 0], [13, 4], [14, 0], [14, 4],   [16, 0], [16, 1], [16, 2], [16, 3], [16, 4], [17, 0], [17, 4], [18, 1], [18, 2], [18, 3], [19, 2], [20, 2], [21, 0], [21, 4], [22, 0], [22, 4],   []\n",
      "            ]\n",
      "        }\n",
      "    ]\n",
      "}\n"
     ]
    }
   ],
   "source": [
    "# Extract the response text\n",
    "response_text = response.choices[0].message.content\n",
    "print(response_text)"
   ]
  },
  {
   "cell_type": "code",
   "execution_count": 603,
   "id": "8f259d1a-7c38-4aa0-871a-7022e7b3206c",
   "metadata": {
    "scrolled": true
   },
   "outputs": [
    {
     "ename": "ValueError",
     "evalue": "not enough values to unpack (expected 2, got 0)",
     "output_type": "error",
     "traceback": [
      "\u001b[1;31m---------------------------------------------------------------------------\u001b[0m",
      "\u001b[1;31mValueError\u001b[0m                                Traceback (most recent call last)",
      "Cell \u001b[1;32mIn[603], line 8\u001b[0m\n\u001b[0;32m      6\u001b[0m title \u001b[38;5;241m=\u001b[39m design[\u001b[38;5;124m'\u001b[39m\u001b[38;5;124mTitle\u001b[39m\u001b[38;5;124m'\u001b[39m]\n\u001b[0;32m      7\u001b[0m coordinates \u001b[38;5;241m=\u001b[39m design[\u001b[38;5;124m'\u001b[39m\u001b[38;5;124mCoordinates\u001b[39m\u001b[38;5;124m'\u001b[39m]\n\u001b[1;32m----> 8\u001b[0m \u001b[43mplot_coordinates\u001b[49m\u001b[43m(\u001b[49m\u001b[43mtitle\u001b[49m\u001b[43m,\u001b[49m\u001b[43m \u001b[49m\u001b[43mcoordinates\u001b[49m\u001b[43m)\u001b[49m\n",
      "Cell \u001b[1;32mIn[412], line 11\u001b[0m, in \u001b[0;36mplot_coordinates\u001b[1;34m(title, list_of_coordinates)\u001b[0m\n\u001b[0;32m      8\u001b[0m grid \u001b[38;5;241m=\u001b[39m np\u001b[38;5;241m.\u001b[39mzeros((grid_size, grid_size))\n\u001b[0;32m     10\u001b[0m \u001b[38;5;66;03m# Set the color value for the selected coordinates (e.g., 1)\u001b[39;00m\n\u001b[1;32m---> 11\u001b[0m \u001b[38;5;28;01mfor\u001b[39;00m x, y \u001b[38;5;129;01min\u001b[39;00m list_of_coordinates:\n\u001b[0;32m     12\u001b[0m     grid[y][x] \u001b[38;5;241m=\u001b[39m \u001b[38;5;241m1\u001b[39m  \u001b[38;5;66;03m# Note: row and col are switched here\u001b[39;00m\n\u001b[0;32m     14\u001b[0m fig, ax \u001b[38;5;241m=\u001b[39m plt\u001b[38;5;241m.\u001b[39msubplots()\n",
      "\u001b[1;31mValueError\u001b[0m: not enough values to unpack (expected 2, got 0)"
     ]
    }
   ],
   "source": [
    "# Load JSON data\n",
    "data = json.loads(response_text)\n",
    "\n",
    "# Loop through each design and plot\n",
    "for design in data['Designs']:\n",
    "    title = design['Title']\n",
    "    coordinates = design['Coordinates']\n",
    "    plot_coordinates(title, coordinates)"
   ]
  },
  {
   "cell_type": "code",
   "execution_count": null,
   "id": "b4c11407-651c-459b-80d4-e8001956cd1a",
   "metadata": {},
   "outputs": [],
   "source": [
    "# Aggregate all coordinates\n",
    "all_coordinates = []\n",
    "for design in data['Designs']:\n",
    "    coordinates = design['Coordinates']\n",
    "    all_coordinates += coordinates\n",
    "\n",
    "# Plot all aggregated coordinates\n",
    "plot_coordinates('All Designs Combined', all_coordinates)"
   ]
  },
  {
   "cell_type": "code",
   "execution_count": null,
   "id": "3a5fbdb9-7fe2-4461-8f0a-dbde45f51f85",
   "metadata": {},
   "outputs": [],
   "source": []
  },
  {
   "cell_type": "code",
   "execution_count": null,
   "id": "51852a37-344f-47b7-a82e-5bc92947a047",
   "metadata": {},
   "outputs": [],
   "source": []
  },
  {
   "cell_type": "code",
   "execution_count": null,
   "id": "62899fab-6fc4-4f28-93e8-5a4313584f77",
   "metadata": {},
   "outputs": [],
   "source": []
  }
 ],
 "metadata": {
  "kernelspec": {
   "display_name": "Python 3 (ipykernel)",
   "language": "python",
   "name": "python3"
  },
  "language_info": {
   "codemirror_mode": {
    "name": "ipython",
    "version": 3
   },
   "file_extension": ".py",
   "mimetype": "text/x-python",
   "name": "python",
   "nbconvert_exporter": "python",
   "pygments_lexer": "ipython3",
   "version": "3.12.3"
  }
 },
 "nbformat": 4,
 "nbformat_minor": 5
}
