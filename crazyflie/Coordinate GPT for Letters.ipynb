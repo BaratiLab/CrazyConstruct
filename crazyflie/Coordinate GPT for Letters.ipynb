{
 "cells": [
  {
   "cell_type": "code",
   "execution_count": 31,
   "id": "346c28c4-a7a7-47f3-b336-0032efe6e8da",
   "metadata": {},
   "outputs": [],
   "source": [
    "import openai\n",
    "from openai import OpenAI\n",
    "import os\n",
    "from dotenv import load_dotenv\n",
    "import matplotlib.pyplot as plt\n",
    "import ast\n",
    "from pathlib import Path\n",
    "import json\n",
    "import numpy as np"
   ]
  },
  {
   "cell_type": "code",
   "execution_count": 32,
   "id": "f9d4c9c1-dc18-4b00-a577-f84fbadbe2cb",
   "metadata": {},
   "outputs": [],
   "source": [
    "# def plot_coordinates(title, list_of_coordinates):# Define the grid size\n",
    "#     grid_size = 25\n",
    "    \n",
    "#     # Create the grid with default color value (e.g., 0)\n",
    "#     grid = np.zeros((grid_size, grid_size))\n",
    "    \n",
    "#     # Set the color value for the selected coordinates (e.g., 1)\n",
    "#     for row, col in list_of_coordinates:\n",
    "#         grid[row][col] = 1\n",
    "    \n",
    "#     fig, ax = plt.subplots()\n",
    "#     cax = ax.matshow(grid, cmap='plasma', origin='lower')\n",
    "    \n",
    "#     # Move the x-axis to the bottom\n",
    "#     ax.xaxis.set_ticks_position('bottom')\n",
    "#     ax.xaxis.set_label_position('bottom')\n",
    "    \n",
    "#     # Set ticks and labels\n",
    "#     ax.set_xticks(range(grid_size))\n",
    "#     ax.set_yticks(range(grid_size))\n",
    "#     ax.set_xticklabels(range(grid_size))\n",
    "#     ax.set_yticklabels(range(grid_size))\n",
    "    \n",
    "#     # Add red dots on points not selected\n",
    "#     for row in range(grid_size):\n",
    "#         for col in range(grid_size):\n",
    "#             if grid[row][col] == 0:\n",
    "#                 ax.plot(col, row, 'ro') \n",
    "    \n",
    "#     # Add X on the points that are selected\n",
    "#     for row in range(grid_size):\n",
    "#         for col in range(grid_size):\n",
    "#             if grid[row][col] == 1:\n",
    "#                 ax.text(col, row, 'X', va='center', ha='center', color='Black', weight='bold')\n",
    "    \n",
    "#     plt.title(title)\n",
    "#     plt.grid(True)\n",
    "#     plt.show()"
   ]
  },
  {
   "cell_type": "code",
   "execution_count": 33,
   "id": "43e75f37-7419-4a0d-962e-71def239dd60",
   "metadata": {},
   "outputs": [],
   "source": [
    "def plot_coordinates(title, list_of_coordinates):\n",
    "    grid_size = 5  # Define the grid size\n",
    "    \n",
    "    # Create the grid with default color value (e.g., 0)\n",
    "    grid = np.zeros((grid_size, grid_size))\n",
    "    \n",
    "    # Set the color value for the selected coordinates (e.g., 1)\n",
    "    for x, y in list_of_coordinates:\n",
    "        grid[y][x] = 1  # Note: row and col are switched here\n",
    "    \n",
    "    fig, ax = plt.subplots()\n",
    "    cax = ax.matshow(grid, cmap='plasma', origin='lower')\n",
    "    \n",
    "    # Move the x-axis to the bottom\n",
    "    ax.xaxis.set_ticks_position('bottom')\n",
    "    ax.xaxis.set_label_position('bottom')\n",
    "    \n",
    "    # Set ticks and labels\n",
    "    ax.set_xticks(range(grid_size))\n",
    "    ax.set_yticks(range(grid_size))\n",
    "    ax.set_xticklabels(range(grid_size))\n",
    "    ax.set_yticklabels(range(grid_size))\n",
    "    \n",
    "    # Add red dots on points not selected\n",
    "    for y in range(grid_size):\n",
    "        for x in range(grid_size):\n",
    "            if grid[y][x] == 0:\n",
    "                ax.plot(x, y, 'ro')  # Plot red dots for unselected points\n",
    "    \n",
    "    # Add X on the points that are selected\n",
    "    for y in range(grid_size):\n",
    "        for x in range(grid_size):\n",
    "            if grid[y][x] == 1:\n",
    "                ax.text(x, y, 'X', va='center', ha='center', color='Black', weight='bold')\n",
    "    \n",
    "    plt.title(title)\n",
    "    plt.grid(True)\n",
    "    plt.show()"
   ]
  },
  {
   "cell_type": "code",
   "execution_count": 34,
   "id": "9f62693c-311c-4577-b853-f33b20e6394c",
   "metadata": {},
   "outputs": [],
   "source": [
    "def plot_all_designs(data):\n",
    "    grid_size = 5\n",
    "    fig, ax = plt.subplots()\n",
    "    \n",
    "    # Loop through each design and plot\n",
    "    for design in data['Designs']:\n",
    "        title = design['Title']\n",
    "        coordinates = design['Coordinates']\n",
    "        plot_coordinates(title, coordinates, ax)\n",
    "    \n",
    "    # Set grid and axis labels\n",
    "    ax.set_xticks(range(grid_size))\n",
    "    ax.set_yticks(range(grid_size))\n",
    "    ax.set_xticklabels(range(grid_size))\n",
    "    ax.set_yticklabels(range(grid_size))\n",
    "    \n",
    "    plt.grid(True)\n",
    "    plt.show()"
   ]
  },
  {
   "cell_type": "code",
   "execution_count": 35,
   "id": "73ebf641-c1a3-4507-9a4f-3b7c26f65cde",
   "metadata": {},
   "outputs": [],
   "source": [
    "# Specify the path to the .env file\n",
    "env_path = Path(r'C:\\Users\\CrazyFlie\\Documents\\Nonuploadable_Git\\.env')\n",
    "\n",
    "# Load the .env file\n",
    "load_dotenv(dotenv_path=env_path)\n",
    "\n",
    "# Get the OpenAI API key from environment variables\n",
    "api_key = os.getenv(\"OPENAI_API_KEY\")\n",
    "\n",
    "client = OpenAI(\n",
    "    api_key=api_key\n",
    ")"
   ]
  },
  {
   "cell_type": "code",
   "execution_count": 36,
   "id": "c2dc4962-828e-4a03-9243-5a761a74e27c",
   "metadata": {},
   "outputs": [],
   "source": [
    "#Make sure the letter is not upside down or backwards otherwise it won't be legible. "
   ]
  },
  {
   "cell_type": "code",
   "execution_count": 37,
   "id": "a02be328-3bad-4427-95af-f1d60aa7251d",
   "metadata": {},
   "outputs": [],
   "source": [
    "prompt = \"\"\"\n",
    "A drone us being used to place building blocks on a grid.\n",
    "You are being asked to come up with the drop off locations for the drone that create a specified design. \n",
    "The origin of the grid is [0,0] in the bottom left corner and the last point is [5,5] in the top right.\n",
    "The X axis goes from [0,0] to [5,0]. The Y axis goes from [0,0] to [0,5].\n",
    "Make sure none of your points exceed the [5,5] index limit. If they do, fix the design.\n",
    "Only Integers are allowed.\n",
    "\n",
    "Please provide the Title and Coordinates in correct JSON format for the Design of the letter \"H\".\n",
    "The Coordinates should be given in the specific order you would want them executed. \n",
    "Make sure your design makes sense and would be legible.\n",
    "\n",
    "Make sure the design is legible by thinking step by step as you choose points.\n",
    "Check the design before confirming it, such as for legibility and index limit of 5. \n",
    "If it is wrong, redo the design and then recheck until you find no errors using a step by step approach.\n",
    "Only return the JSON in the strucuture provided as it needs to be parsed with Python. Do not include any other text or symbols.\n",
    "\n",
    "Please use the following structure:\n",
    "\n",
    "{\n",
    "    \"Design\": [\n",
    "        {\n",
    "            \"Title\": \"Title of Design\",\n",
    "            \"Coordinates\": [\n",
    "                [x, y],\n",
    "                [x, y]\n",
    "            ],\n",
    "            \"Reasoning\": \"Your textual reseasoning here\"\n",
    "      }\n",
    "    ]\n",
    "}\n",
    "\"\"\""
   ]
  },
  {
   "cell_type": "code",
   "execution_count": 38,
   "id": "b7a1e8b8-3f24-4f34-9896-3426ec30e20c",
   "metadata": {},
   "outputs": [],
   "source": [
    "# Define the prompt\n",
    "prompt = prompt\n",
    "\n",
    "# Send the request to OpenAI using the new ChatCompletion method\n",
    "response = client.chat.completions.create(\n",
    "    model=\"gpt-4o\",\n",
    "    response_format = {\"type\": \"json_object\"},\n",
    "    messages=[\n",
    "        {\n",
    "            \"role\": \"user\",\n",
    "            \"content\": prompt,\n",
    "        }\n",
    "    ],   \n",
    ")"
   ]
  },
  {
   "cell_type": "code",
   "execution_count": 39,
   "id": "b2e1a2a2-df4d-41af-8398-fc56d36f525f",
   "metadata": {},
   "outputs": [
    {
     "name": "stdout",
     "output_type": "stream",
     "text": [
      "ChatCompletion(id='chatcmpl-9nu5nQmSko7sLpXnsYZ2XlEeVNCQs', choices=[Choice(finish_reason='stop', index=0, logprobs=None, message=ChatCompletionMessage(content='{\\n    \"Design\": [\\n        {\\n            \"Title\": \"Letter H\",\\n            \"Coordinates\": [\\n                [1, 1],\\n                [1, 2],\\n                [1, 3],\\n                [1, 4],\\n                [2, 3],\\n                [3, 1],\\n                [3, 2],\\n                [3, 3],\\n                [3, 4]\\n            ],\\n            \"Reasoning\": \"To design the letter \\'H\\', start by creating the left vertical line at x=1 by placing blocks from y=1 through y=4. Then place the horizontal line in the middle at y=3, connecting the two vertical lines. Finally, create the right vertical line at x=3 from y=1 through y=4. Each coordinate represents an integer grid point and the entire design fits within the 5x5 grid.\"\\n        }\\n    ]\\n}', role='assistant', function_call=None, tool_calls=None))], created=1721680719, model='gpt-4o-2024-05-13', object='chat.completion', service_tier=None, system_fingerprint='fp_400f27fa1f', usage=CompletionUsage(completion_tokens=186, prompt_tokens=332, total_tokens=518))\n"
     ]
    }
   ],
   "source": [
    "print(response)"
   ]
  },
  {
   "cell_type": "code",
   "execution_count": 40,
   "id": "f8278eff-ab90-4ca3-9f45-ee8bb44c3a42",
   "metadata": {},
   "outputs": [
    {
     "name": "stdout",
     "output_type": "stream",
     "text": [
      "{\n",
      "    \"Design\": [\n",
      "        {\n",
      "            \"Title\": \"Letter H\",\n",
      "            \"Coordinates\": [\n",
      "                [1, 1],\n",
      "                [1, 2],\n",
      "                [1, 3],\n",
      "                [1, 4],\n",
      "                [2, 3],\n",
      "                [3, 1],\n",
      "                [3, 2],\n",
      "                [3, 3],\n",
      "                [3, 4]\n",
      "            ],\n",
      "            \"Reasoning\": \"To design the letter 'H', start by creating the left vertical line at x=1 by placing blocks from y=1 through y=4. Then place the horizontal line in the middle at y=3, connecting the two vertical lines. Finally, create the right vertical line at x=3 from y=1 through y=4. Each coordinate represents an integer grid point and the entire design fits within the 5x5 grid.\"\n",
      "        }\n",
      "    ]\n",
      "}\n"
     ]
    }
   ],
   "source": [
    "# Extract the response text\n",
    "response_text = response.choices[0].message.content\n",
    "print(response_text)"
   ]
  },
  {
   "cell_type": "code",
   "execution_count": 41,
   "id": "8f259d1a-7c38-4aa0-871a-7022e7b3206c",
   "metadata": {},
   "outputs": [
    {
     "data": {
      "image/png": "[encoded data removed]",
      "text/plain": [
       "<Figure size 640x480 with 1 Axes>"
      ]
     },
     "metadata": {},
     "output_type": "display_data"
    }
   ],
   "source": [
    "# Load JSON data\n",
    "data = json.loads(response_text)\n",
    "\n",
    "# Loop through each design and plot\n",
    "for design in data['Design']:\n",
    "    title = design['Title']\n",
    "    coordinates = design['Coordinates']\n",
    "    plot_coordinates(title, coordinates)"
   ]
  },
  {
   "cell_type": "code",
   "execution_count": null,
   "id": "3a5fbdb9-7fe2-4461-8f0a-dbde45f51f85",
   "metadata": {},
   "outputs": [],
   "source": []
  },
  {
   "cell_type": "code",
   "execution_count": null,
   "id": "51852a37-344f-47b7-a82e-5bc92947a047",
   "metadata": {},
   "outputs": [],
   "source": []
  },
  {
   "cell_type": "code",
   "execution_count": null,
   "id": "62899fab-6fc4-4f28-93e8-5a4313584f77",
   "metadata": {},
   "outputs": [],
   "source": []
  }
 ],
 "metadata": {
  "kernelspec": {
   "display_name": "Python 3 (ipykernel)",
   "language": "python",
   "name": "python3"
  },
  "language_info": {
   "codemirror_mode": {
    "name": "ipython",
    "version": 3
   },
   "file_extension": ".py",
   "mimetype": "text/x-python",
   "name": "python",
   "nbconvert_exporter": "python",
   "pygments_lexer": "ipython3",
   "version": "3.12.3"
  }
 },
 "nbformat": 4,
 "nbformat_minor": 5
}
