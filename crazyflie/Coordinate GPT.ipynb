{
 "cells": [
  {
   "cell_type": "code",
   "execution_count": 5,
   "id": "346c28c4-a7a7-47f3-b336-0032efe6e8da",
   "metadata": {},
   "outputs": [],
   "source": [
    "import openai\n",
    "from openai import OpenAI\n",
    "import os\n",
    "from dotenv import load_dotenv\n",
    "import matplotlib.pyplot as plt\n",
    "import ast\n",
    "from pathlib import Path"
   ]
  },
  {
   "cell_type": "code",
   "execution_count": 8,
   "id": "73ebf641-c1a3-4507-9a4f-3b7c26f65cde",
   "metadata": {},
   "outputs": [],
   "source": [
    "# Specify the path to the .env file\n",
    "env_path = Path(r'C:\\Users\\CrazyFlie\\Documents\\Nonuploadable_Git\\.env')\n",
    "\n",
    "# Load the .env file\n",
    "load_dotenv(dotenv_path=env_path)\n",
    "\n",
    "# Get the OpenAI API key from environment variables\n",
    "api_key = os.getenv(\"OPENAI_API_KEY\")\n",
    "\n",
    "client = OpenAI(\n",
    "    api_key=api_key\n",
    ")"
   ]
  },
  {
   "cell_type": "code",
   "execution_count": 9,
   "id": "6fe6fa32-6203-4866-834f-b64541cc3b53",
   "metadata": {},
   "outputs": [],
   "source": [
    "\n",
    "prompt1 = \"\"\"\n",
    "You are provided with a set of Lego blocks that are rectangular.\n",
    "You are asked to build the letter 'E\" on an 8 by 8 gird.\n",
    "Each block occupies a segment [(x, y), (x, y)] that can extend only in 1 unit either horizontal or vertical. \n",
    "For example, [(0, 0), (0, 1)] is a valid segment. \n",
    "Once a point has been covered by a block, you can never use it again.  \n",
    "Blocks that occupy [(0, 0), (0, 1)] and [(0, 2), (0, 3)] are valid as this would be two blocks next to each other.\n",
    "Blocks that occupy [(0, 0), (0, 1)] and [(0, 1), (0, 1)] are not valid as this would have the blocks overlapping.\n",
    "Diagonal blocks are not allowed.\n",
    "The segments should be provided in a list format suitable for plotting in Python using matplotlib.\n",
    "There should be no other text in the response, only the list as specified.\n",
    "For example, '[[(x, y), (x, y)], [(x, y), (x, y)]] ' is a correctly formatted list of segments.\n",
    "\"\"\""
   ]
  },
  {
   "cell_type": "code",
   "execution_count": 10,
   "id": "af61e3a9-cf9f-46d7-a287-13fb37c30d98",
   "metadata": {},
   "outputs": [],
   "source": [
    "prompt2 = \"\"\"\n",
    "You are tasked with designing a pattern on a grid using plastic blocks to form a specified letter. \n",
    "Each plastic block occupies two (x,y) positions in size, for example [(0,0) , (0,1)].\n",
    "The blocks have magnets that lock them onto the grid like Legos.\n",
    "\n",
    "For this task, you need to form the letter 'E' on the grid. Provide the coordinates where each block should be placed to construct the letter. \n",
    "Each block should be placed either horizontally or vertically.\n",
    "\n",
    "Ensure that:\n",
    "1. The blocks are placed in such a way that they form the letter 'E'.\n",
    "2. Each block is exactly two units long.\n",
    "3. No two blocks overlap.\n",
    "4. The blocks are not placed diagonally.\n",
    "5. The coordinates are provided as pairs of x, y positions indicating the start and end points of each block.\n",
    "\n",
    "Provide the coordinates in the format: [[(x1, y1), (x2, y2)], [(x3, y3), (x4, y4)], ...]. Do not include any additional text, just the list of coordinates.\n",
    "\"\"\""
   ]
  },
  {
   "cell_type": "code",
   "execution_count": 11,
   "id": "e80543ab-24f6-482f-bcc0-3c58761b287d",
   "metadata": {},
   "outputs": [],
   "source": [
    "prompt3 = \"\"\"\n",
    "Determine coordinates to form a letter in an 10 by 10 grid. \n",
    "Provide only a list of points that make up a smile face.\n",
    "Points can not be reused.\n",
    "The coordinates should be provided in a list format suitable for plotting in Python using matplotlib.\n",
    "There should be no other text in the response, only the list as specified.\n",
    "The coordinates should be in the format (x, y).\n",
    "For example, '[(x, y), (x, y), (x,y)]' is a correctly formatted list.\n",
    "\"\"\""
   ]
  },
  {
   "cell_type": "code",
   "execution_count": 12,
   "id": "346e7e5a-5854-4243-a753-895d4b8ac213",
   "metadata": {},
   "outputs": [],
   "source": [
    "prompt4 = \"\"\"\n",
    "Determine coordinates to form a uppercase \"A\" in a 10 by 10 grid. \n",
    "Provide only a list of points that make up the design.\n",
    "Points cannot be reused.\n",
    "The coordinates should be provided in a list format suitable for plotting in Python using matplotlib.\n",
    "There should be no other text in the response, only the list as specified.\n",
    "The coordinates should be in the format (x, y).\n",
    "For example, '[(x, y), (x, y), (x, y)]' is a correctly formatted list.\n",
    "\"\"\""
   ]
  },
  {
   "cell_type": "code",
   "execution_count": 13,
   "id": "b7a1e8b8-3f24-4f34-9896-3426ec30e20c",
   "metadata": {},
   "outputs": [],
   "source": [
    "# Define the prompt\n",
    "prompt = prompt4\n",
    "\n",
    "# Send the request to OpenAI using the new ChatCompletion method\n",
    "response = client.chat.completions.create(\n",
    "    messages=[\n",
    "        {\n",
    "            \"role\": \"user\",\n",
    "            \"content\": prompt,\n",
    "        }\n",
    "    ],\n",
    "    model=\"gpt-4o\",\n",
    ")"
   ]
  },
  {
   "cell_type": "code",
   "execution_count": 14,
   "id": "b2e1a2a2-df4d-41af-8398-fc56d36f525f",
   "metadata": {},
   "outputs": [
    {
     "name": "stdout",
     "output_type": "stream",
     "text": [
      "ChatCompletion(id='chatcmpl-9elXLS9J6EF1uzKeosUgGP0i4rESj', choices=[Choice(finish_reason='stop', index=0, logprobs=None, message=ChatCompletionMessage(content='[(3, 9), (4, 9), (2, 8), (5, 8), (1, 7), (6, 7), (1, 6), (6, 6), (1, 5), (6, 5), (1, 4), (6, 4), (1, 3), (6, 3), (2, 2), (5, 2), (3, 5), (4, 5)]', role='assistant', function_call=None, tool_calls=None))], created=1719502879, model='gpt-4o-2024-05-13', object='chat.completion', service_tier=None, system_fingerprint='fp_ce0793330f', usage=CompletionUsage(completion_tokens=108, prompt_tokens=115, total_tokens=223))\n"
     ]
    }
   ],
   "source": [
    "print(response)"
   ]
  },
  {
   "cell_type": "code",
   "execution_count": 15,
   "id": "f8278eff-ab90-4ca3-9f45-ee8bb44c3a42",
   "metadata": {},
   "outputs": [
    {
     "name": "stdout",
     "output_type": "stream",
     "text": [
      "[(3, 9), (4, 9), (2, 8), (5, 8), (1, 7), (6, 7), (1, 6), (6, 6), (1, 5), (6, 5), (1, 4), (6, 4), (1, 3), (6, 3), (2, 2), (5, 2), (3, 5), (4, 5)]\n"
     ]
    }
   ],
   "source": [
    "# Extract the response text\n",
    "coordinates_text = response.choices[0].message.content\n",
    "print(coordinates_text)"
   ]
  },
  {
   "cell_type": "code",
   "execution_count": 16,
   "id": "40038d96-4593-4c3f-add9-63c9459879b0",
   "metadata": {},
   "outputs": [],
   "source": [
    "# Function to parse coordinates text into a list of tuples\n",
    "def parse_coordinates(coordinates_text):\n",
    "    # Use ast.literal_eval to safely parse the string into a list of tuples\n",
    "    return ast.literal_eval(coordinates_text)"
   ]
  },
  {
   "cell_type": "code",
   "execution_count": 17,
   "id": "4e827d64-8939-49b1-833a-c013bb034f04",
   "metadata": {},
   "outputs": [],
   "source": [
    "list_of_cords = parse_coordinates(coordinates_text)"
   ]
  },
  {
   "cell_type": "code",
   "execution_count": 18,
   "id": "efa741f9-aa39-4e74-968c-81a963dbef21",
   "metadata": {},
   "outputs": [
    {
     "name": "stdout",
     "output_type": "stream",
     "text": [
      "[(3, 9), (4, 9), (2, 8), (5, 8), (1, 7), (6, 7), (1, 6), (6, 6), (1, 5), (6, 5), (1, 4), (6, 4), (1, 3), (6, 3), (2, 2), (5, 2), (3, 5), (4, 5)]\n"
     ]
    }
   ],
   "source": [
    "print(list_of_cords)"
   ]
  },
  {
   "cell_type": "code",
   "execution_count": 19,
   "id": "d7b45994-4461-472d-aa26-c1d8260a4533",
   "metadata": {},
   "outputs": [
    {
     "data": {
      "image/png": "[encoded data removed]",
      "text/plain": [
       "<Figure size 640x480 with 1 Axes>"
      ]
     },
     "metadata": {},
     "output_type": "display_data"
    }
   ],
   "source": [
    "# Plot the coordinates on a 10x10 grid\n",
    "grid_size = 10\n",
    "grid = [[' ' for _ in range(grid_size)] for _ in range(grid_size)]\n",
    "\n",
    "for row, col in list_of_cords:\n",
    "    grid[row][col] = 'X'\n",
    "\n",
    "fig, ax = plt.subplots()\n",
    "ax.set_xticks(range(grid_size))\n",
    "ax.set_yticks(range(grid_size))\n",
    "ax.set_xticklabels(range(grid_size))\n",
    "ax.set_yticklabels(range(grid_size))\n",
    "ax.invert_yaxis()\n",
    "\n",
    "# Plot each cell\n",
    "for row in range(grid_size):\n",
    "    for col in range(grid_size):\n",
    "        ax.text(col, row, grid[row][col], va='center', ha='center')\n",
    "\n",
    "plt.grid(True)\n",
    "plt.show()"
   ]
  },
  {
   "cell_type": "code",
   "execution_count": 20,
   "id": "6087c07c-a807-4a2c-beec-55734dd30a03",
   "metadata": {},
   "outputs": [],
   "source": [
    "# # Extract the response text correctly\n",
    "# segments_text = response.choices[0].message.content.strip()\n",
    "\n",
    "# # Function to parse segments text into a list of list of tuples\n",
    "# def parse_segments(segments_text):\n",
    "#     # Use ast.literal_eval to safely parse the string into a list of list of tuples\n",
    "#     return ast.literal_eval(segments_text)\n",
    "\n",
    "# # Parse the segments\n",
    "# segments = parse_segments(segments_text)\n",
    "\n",
    "# # Plot the segments on a 10x10 grid\n",
    "# grid_size = 10\n",
    "# fig, ax = plt.subplots()\n",
    "# ax.set_xticks(range(grid_size))\n",
    "# ax.set_yticks(range(grid_size))\n",
    "# ax.set_xticklabels(range(grid_size))\n",
    "# ax.set_yticklabels(range(grid_size))\n",
    "# ax.invert_yaxis()\n",
    "\n",
    "# # Plot each segment\n",
    "# for segment in segments:\n",
    "#     x_coords = [point[1] for point in segment]  # Extract x coordinates\n",
    "#     y_coords = [point[0] for point in segment]  # Extract y coordinates\n",
    "#     ax.plot(x_coords, y_coords, 'ro-', linewidth=2)  # 'ro-' means red color, round markers, solid line\n",
    "\n",
    "# # Display the grid\n",
    "# plt.grid(True)\n",
    "# plt.show()"
   ]
  },
  {
   "cell_type": "code",
   "execution_count": null,
   "id": "8bfb9acc-cc17-425b-8f23-8136c86c7798",
   "metadata": {},
   "outputs": [],
   "source": []
  },
  {
   "cell_type": "code",
   "execution_count": null,
   "id": "e6a08966-3911-4429-a28f-4761909ab899",
   "metadata": {},
   "outputs": [],
   "source": []
  },
  {
   "cell_type": "code",
   "execution_count": null,
   "id": "8f7a775c-4cef-4348-aee5-a9fd61ba0ee4",
   "metadata": {},
   "outputs": [],
   "source": []
  },
  {
   "cell_type": "code",
   "execution_count": null,
   "id": "447f4de8-093a-4720-a561-521d2e55699a",
   "metadata": {},
   "outputs": [],
   "source": []
  }
 ],
 "metadata": {
  "kernelspec": {
   "display_name": "Python 3 (ipykernel)",
   "language": "python",
   "name": "python3"
  },
  "language_info": {
   "codemirror_mode": {
    "name": "ipython",
    "version": 3
   },
   "file_extension": ".py",
   "mimetype": "text/x-python",
   "name": "python",
   "nbconvert_exporter": "python",
   "pygments_lexer": "ipython3",
   "version": "3.12.3"
  }
 },
 "nbformat": 4,
 "nbformat_minor": 5
}
