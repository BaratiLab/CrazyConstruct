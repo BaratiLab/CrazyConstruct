{
 "cells": [
  {
   "cell_type": "code",
   "execution_count": 1,
   "id": "5ea1c5d0-7c02-49bf-943d-1188bbebd832",
   "metadata": {},
   "outputs": [],
   "source": [
    "from anthropic import Anthropic\n",
    "import os\n",
    "from dotenv import load_dotenv\n",
    "import ast\n",
    "from pathlib import Path\n",
    "import json\n",
    "import numpy as np\n",
    "import matplotlib.pyplot as plt\n",
    "\n",
    "#Funtions file with unique functions\n",
    "import functions"
   ]
  },
  {
   "cell_type": "code",
   "execution_count": 2,
   "id": "64ce96e7-37ab-4f3d-8dfa-b9acdec4f5c4",
   "metadata": {},
   "outputs": [],
   "source": [
    "# Specify the path to the .env file\n",
    "env_path = Path(r'C:\\Users\\CrazyFlie\\Documents\\Nonuploadable_Git\\.env')\n",
    "\n",
    "# Load the .env file\n",
    "load_dotenv(dotenv_path=env_path)\n",
    "\n",
    "# Get the API key from environment variables\n",
    "api_key = os.getenv(\"ANTHROPIC_API_KEY_AKSHAY\")"
   ]
  },
  {
   "cell_type": "code",
   "execution_count": 3,
   "id": "67f987f1-da87-4da5-8c02-3383c1829bd7",
   "metadata": {},
   "outputs": [],
   "source": [
    "client = Anthropic(\n",
    "    # This is the default and can be omitted\n",
    "    api_key=api_key,\n",
    ")"
   ]
  },
  {
   "cell_type": "code",
   "execution_count": 4,
   "id": "22be864a-710c-428e-a9ab-96f84e02bcf2",
   "metadata": {},
   "outputs": [],
   "source": [
    "requested_design = \"The Letter H\""
   ]
  },
  {
   "cell_type": "code",
   "execution_count": 5,
   "id": "e2dfe0f4-fb74-42bd-adef-af2d206c60e5",
   "metadata": {},
   "outputs": [],
   "source": [
    "current_coordinates = [[1,3]]"
   ]
  },
  {
   "cell_type": "code",
   "execution_count": 6,
   "id": "a7c34854-856a-4f1d-be34-205bf3f0e0af",
   "metadata": {},
   "outputs": [
    {
     "name": "stdout",
     "output_type": "stream",
     "text": [
      "\n",
      "A drone is being used to place building blocks on a grid.\n",
      "Please read all of the following instructions first.\n",
      "\n",
      "You will be asked to come up with the drop-off locations for the drone that create a specified design.\n",
      "The origin of the grid is [0,0] in the bottom left corner and the last point is [4,4] in the top right.\n",
      "The X axis goes from [0,0] to [4,0]. The Y axis goes from [0,0] to [0,4]. \n",
      "\n",
      "You can think of the grid like the pixels of a tv screen, with your job being to decide which pixel to turn on.\n",
      "The grid currently looks as follows, where \"o\" is an empty spot (or off pixel) and \"x\" is a spot that has a existing block (or on pixel):\n",
      "\n",
      "4 o o o o o\n",
      "3 o x o o o\n",
      "2 o o o o o\n",
      "1 o o o o o\n",
      "0 o o o o o\n",
      "  0 1 2 3 4\n",
      "\n",
      "\n",
      "\n",
      "Any existing points marked with \"x\" has already been chosen and must be incorporated in the design you will create. \n",
      "Make sure these pieces then align with one another to create the design in a logical layout.\n",
      "\n",
      "Only Integer points are allowed.\n",
      "You can make the design in any orientation that makes sense with the already placed blocks. \n",
      "Make sure none of your points exceed the [4,4] index limit. If they do, fix the design.\n",
      "Make sure the design is legible by thinking step by step as you choose points.\n",
      "Check the design before confirming it.\n",
      "If you find an error, retry and then recheck until you find no errors using a step by step approach.\n",
      "Provide the Title, New Coordinates, Existing Coordinates and your Reasoning in correct JSON format for the design.\n",
      "The Coordinates should be given in the specific order you would want them executed.\n",
      "Only return the JSON in the structure provided as it needs to be parsed with Python. Do not include any other text or symbols.\n",
      "\n",
      "Please use the following structure:\n",
      "\n",
      "{\n",
      "    \"Design\": [\n",
      "        {\n",
      "            \"Title\": \"Title of Design\",\n",
      "            \"New Coordinates\": [\n",
      "                [x, y],\n",
      "                [x, y]\n",
      "            ],\n",
      "            \"Exisiting Coordinates\": [\n",
      "                [x, y],\n",
      "                [x, y]\n",
      "            ],\n",
      "            \"Reasoning\": \"Your textual reasoning here\"\n",
      "      }\n",
      "    ]\n",
      "}\n",
      "\n",
      "You are being asked to design the following: The Letter H\n",
      "Think step-by-step.\n",
      "Make your design now.\n",
      "\n"
     ]
    }
   ],
   "source": [
    "prompt = functions.create_prompt(current_coordinates=current_coordinates, requested_design=requested_design)\n",
    "print(prompt)"
   ]
  },
  {
   "cell_type": "code",
   "execution_count": 7,
   "id": "0281b26c-1fb0-494a-9ba5-29d657af7af8",
   "metadata": {},
   "outputs": [
    {
     "name": "stdout",
     "output_type": "stream",
     "text": [
      "[TextBlock(text='{\\n    \"Design\": [\\n        {\\n            \"Title\": \"The Letter H\",\\n            \"New Coordinates\": [\\n                [1, 1],\\n                [1, 2],\\n                [1, 4],\\n                [2, 3],\\n                [3, 1],\\n                [3, 2],\\n                [3, 3],\\n                [3, 4]\\n            ],\\n            \"Existing Coordinates\": [\\n                [1, 3]\\n            ],\\n            \"Reasoning\": \"To create the letter H, we need two vertical lines connected by a horizontal line in the middle. The existing block at [1, 3] can serve as part of the left vertical line. We\\'ll complete the left vertical line by adding blocks at [1, 1], [1, 2], and [1, 4]. For the right vertical line, we\\'ll place blocks at [3, 1], [3, 2], [3, 3], and [3, 4]. Finally, we\\'ll connect these lines with a horizontal line in the middle by adding a block at [2, 3]. This creates a clear, legible \\'H\\' shape within the 5x5 grid, incorporating the existing block and staying within the grid limits.\"\\n        }\\n    ]\\n}', type='text')]\n"
     ]
    }
   ],
   "source": [
    "# Define the prompt\n",
    "prompt = prompt\n",
    "\n",
    "response = client.messages.create(\n",
    "    max_tokens=1024,\n",
    "    messages=[\n",
    "        {\n",
    "            \"role\": \"user\",\n",
    "            \"content\": prompt,\n",
    "        }\n",
    "    ],\n",
    "    model=\"claude-3-5-sonnet-20240620\",\n",
    ")\n",
    "print(response.content)"
   ]
  },
  {
   "cell_type": "code",
   "execution_count": 8,
   "id": "6d102bfc-c2af-459c-b573-cc009efbdc38",
   "metadata": {},
   "outputs": [
    {
     "name": "stdout",
     "output_type": "stream",
     "text": [
      "{\n",
      "    \"Design\": [\n",
      "        {\n",
      "            \"Title\": \"The Letter H\",\n",
      "            \"New Coordinates\": [\n",
      "                [1, 1],\n",
      "                [1, 2],\n",
      "                [1, 4],\n",
      "                [2, 3],\n",
      "                [3, 1],\n",
      "                [3, 2],\n",
      "                [3, 3],\n",
      "                [3, 4]\n",
      "            ],\n",
      "            \"Existing Coordinates\": [\n",
      "                [1, 3]\n",
      "            ],\n",
      "            \"Reasoning\": \"To create the letter H, we need two vertical lines connected by a horizontal line in the middle. The existing block at [1, 3] can serve as part of the left vertical line. We'll complete the left vertical line by adding blocks at [1, 1], [1, 2], and [1, 4]. For the right vertical line, we'll place blocks at [3, 1], [3, 2], [3, 3], and [3, 4]. Finally, we'll connect these lines with a horizontal line in the middle by adding a block at [2, 3]. This creates a clear, legible 'H' shape within the 5x5 grid, incorporating the existing block and staying within the grid limits.\"\n",
      "        }\n",
      "    ]\n",
      "}\n"
     ]
    }
   ],
   "source": [
    "# Extract the response text\n",
    "response_text = response.content[0].text\n",
    "print(response_text)"
   ]
  },
  {
   "cell_type": "code",
   "execution_count": 9,
   "id": "87a2a8fd-e350-4951-a426-b37fec42e00c",
   "metadata": {},
   "outputs": [
    {
     "name": "stdout",
     "output_type": "stream",
     "text": [
      "[[1, 1], [1, 2], [1, 4], [2, 3], [3, 1], [3, 2], [3, 3], [3, 4]]\n"
     ]
    },
    {
     "data": {
      "image/png": "[encoded data removed]",
      "text/plain": [
       "<Figure size 640x480 with 1 Axes>"
      ]
     },
     "metadata": {},
     "output_type": "display_data"
    },
    {
     "name": "stdout",
     "output_type": "stream",
     "text": [
      "To create the letter H, we need two vertical lines connected by a horizontal line in the middle. The existing block at [1, 3] can serve as part of the left vertical line. We'll complete the left vertical line by adding blocks at [1, 1], [1, 2], and [1, 4]. For the right vertical line, we'll place blocks at [3, 1], [3, 2], [3, 3], and [3, 4]. Finally, we'll connect these lines with a horizontal line in the middle by adding a block at [2, 3]. This creates a clear, legible 'H' shape within the 5x5 grid, incorporating the existing block and staying within the grid limits.\n"
     ]
    }
   ],
   "source": [
    "# Load JSON data\n",
    "data = json.loads(response_text)\n",
    "\n",
    "# Loop through each design and plot\n",
    "for design in data['Design']:\n",
    "    title = design['Title']\n",
    "    coordinates = design['New Coordinates']\n",
    "    print(coordinates)\n",
    "    functions.plot_coordinates(title, coordinates)\n",
    "    print(design['Reasoning'])"
   ]
  },
  {
   "cell_type": "code",
   "execution_count": 28,
   "id": "15e7b2a7-e3be-413d-9335-895044d807e4",
   "metadata": {},
   "outputs": [
    {
     "name": "stdout",
     "output_type": "stream",
     "text": [
      "4 o o o o o\n",
      "3 o x o o o\n",
      "2 o o x o o\n",
      "1 o x x x o\n",
      "0 x x x x x\n",
      "  0 1 2 3 4\n",
      "\n"
     ]
    }
   ],
   "source": [
    "grid_representation = functions.create_grid_representation(coordinates=coordinates)\n",
    "print(grid_representation)"
   ]
  },
  {
   "cell_type": "code",
   "execution_count": null,
   "id": "10d51acb-9ab4-43e5-ae9a-5113ee90212d",
   "metadata": {},
   "outputs": [],
   "source": []
  },
  {
   "cell_type": "code",
   "execution_count": null,
   "id": "968fbd02-ed9f-4080-8a18-efeb7d1e395a",
   "metadata": {},
   "outputs": [],
   "source": []
  },
  {
   "cell_type": "code",
   "execution_count": null,
   "id": "96eaffb4-eb21-4c14-aabc-7b16e3a57587",
   "metadata": {},
   "outputs": [],
   "source": []
  },
  {
   "cell_type": "code",
   "execution_count": null,
   "id": "cda73661-6d7b-41fa-9c87-33afa1d5438f",
   "metadata": {},
   "outputs": [],
   "source": [
    "Test_JSON_prompt = f\"\"\"\n",
    "You were previously provided the following prompt: \n",
    "START PROMPT \n",
    "{original_prompt} \n",
    "END PROMPT\n",
    "\n",
    "Your reponse to this prompt was the following JSON: \n",
    "START RESPONSE \n",
    "{JSON_Output} \n",
    "END RESPONSE\n",
    "\n",
    "While executing the coordinates that were previoulsy provided, blocks were correctly placed at {correct_xy}.\n",
    "However, an when trying to place a block at {desired_xy}, it was instead placed at {actual_xy}.\n",
    "\n",
    "This means there are currently blocks at {correct_xy} and {actual_xy}.\n",
    "\n",
    "You are now tasked with checking the design and recovering it if possible.\n",
    "\n",
    "If the design is recoverable by continuing with the current plan in a different order, then\n",
    "provide the coorindates where blocks still need to be placed in the JSON structure provided.\n",
    "\n",
    "If the design is not recoverable with the current plan, then try to recover it with a new layout that incorparates the already placed blocks. \n",
    "A new layout might mean a different orientation of the design, such as turning the design or laterally shifting it, which is allowed if needed. \n",
    "Note that any block that has already been placed cannot be removed and therefore must be used in any new designs.\n",
    "Make sure your design makes if you do a redisgn, then provide the coorindates where blocks still need to be placed at in the JSON structure provided.\n",
    "\n",
    "Make sure to follow the instructions from the original prompt if needed.\n",
    "\n",
    "If the design it not not recoverable at all, reply set the Title as \"Design is not recoverable.\" and provide no Coordinates.\n",
    "\"\"\""
   ]
  }
 ],
 "metadata": {
  "kernelspec": {
   "display_name": "Python 3 (ipykernel)",
   "language": "python",
   "name": "python3"
  },
  "language_info": {
   "codemirror_mode": {
    "name": "ipython",
    "version": 3
   },
   "file_extension": ".py",
   "mimetype": "text/x-python",
   "name": "python",
   "nbconvert_exporter": "python",
   "pygments_lexer": "ipython3",
   "version": "3.12.3"
  }
 },
 "nbformat": 4,
 "nbformat_minor": 5
}
