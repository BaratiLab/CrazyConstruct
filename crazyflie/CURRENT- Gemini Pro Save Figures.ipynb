{
 "cells": [
  {
   "cell_type": "code",
   "execution_count": 1,
   "id": "5ea1c5d0-7c02-49bf-943d-1188bbebd832",
   "metadata": {},
   "outputs": [
    {
     "name": "stderr",
     "output_type": "stream",
     "text": [
      "C:\\Users\\CrazyFlie\\anaconda3\\envs\\CrazyFlie\\Lib\\site-packages\\tqdm\\auto.py:21: TqdmWarning: IProgress not found. Please update jupyter and ipywidgets. See https://ipywidgets.readthedocs.io/en/stable/user_install.html\n",
      "  from .autonotebook import tqdm as notebook_tqdm\n"
     ]
    }
   ],
   "source": [
    "import google.generativeai as genai\n",
    "import os\n",
    "from dotenv import load_dotenv\n",
    "import ast\n",
    "from pathlib import Path\n",
    "import json\n",
    "import numpy as np\n",
    "import matplotlib.pyplot as plt\n",
    "import time\n",
    "#Funtions file with unique functions\n",
    "import functions"
   ]
  },
  {
   "cell_type": "code",
   "execution_count": 2,
   "id": "64ce96e7-37ab-4f3d-8dfa-b9acdec4f5c4",
   "metadata": {},
   "outputs": [],
   "source": [
    "# Specify the path to the .env file\n",
    "env_path = Path(r'C:\\Users\\CrazyFlie\\Documents\\Nonuploadable_Git\\.env')\n",
    "\n",
    "# Load the .env file\n",
    "load_dotenv(dotenv_path=env_path)\n",
    "\n",
    "# Get the API key from environment variables\n",
    "api_key = os.getenv(\"GOOGLE_API_KEY\")\n",
    "genai.configure(api_key=api_key)\n",
    "model = genai.GenerativeModel('gemini-1.5-pro')"
   ]
  },
  {
   "cell_type": "code",
   "execution_count": 3,
   "id": "22be864a-710c-428e-a9ab-96f84e02bcf2",
   "metadata": {},
   "outputs": [
    {
     "name": "stdout",
     "output_type": "stream",
     "text": [
      "['Square', 'Rectangle', 'Circle', 'Triangle (Equilateral)', 'Triangle (Isosceles)', 'Triangle (Right-Angle)', 'Diamond', 'Cross', 'Plus Sign', 'Arrow', 'Star', 'Heart', 'Crescent', 'Zigzag']\n"
     ]
    }
   ],
   "source": [
    "all_designs = functions.get_shapes()\n",
    "print(all_designs)"
   ]
  },
  {
   "cell_type": "code",
   "execution_count": 4,
   "id": "e2dfe0f4-fb74-42bd-adef-af2d206c60e5",
   "metadata": {},
   "outputs": [],
   "source": [
    "current_coordinates = []\n",
    "LLM_name = \"Gemini_Pro_1.5\"\n",
    "folder_name = LLM_name + \" \" + \"shapes\""
   ]
  },
  {
   "cell_type": "code",
   "execution_count": 6,
   "id": "016fb188-89a5-4f4d-b483-06548ce323a3",
   "metadata": {},
   "outputs": [
    {
     "name": "stdout",
     "output_type": "stream",
     "text": [
      "{\n",
      "    \"Design\": [\n",
      "        {\n",
      "            \"Title\": \"Square\",\n",
      "            \"New Coordinates\": [\n",
      "                [1, 1],\n",
      "                [2, 1],\n",
      "                [3, 1],\n",
      "                [4, 1],\n",
      "                [1, 2],\n",
      "                [1, 3],\n",
      "                [1, 4],\n",
      "                [2, 4],\n",
      "                [3, 4],\n",
      "                [4, 4],\n",
      "                [4, 3],\n",
      "                [4, 2]\n",
      "            ],\n",
      "            \"Exisiting Coordinates\": [],\n",
      "            \"Reasoning\": \"This creates a 4x4 square using the provided coordinates.  No existing coordinates were provided.\"\n",
      "      }\n",
      "    ]\n",
      "}\n",
      "\n",
      "```json\n",
      "{\n",
      "    \"Design\": [\n",
      "        {\n",
      "            \"Title\": \"Rectangle\",\n",
      "            \"New Coordinates\": [\n",
      "                [0, 0],\n",
      "                [1, 0],\n",
      "                [2, 0],\n",
      "                [3, 0],\n",
      "                [4, 0],\n",
      "                [5, 0],\n",
      "                [6, 0],\n",
      "                [7, 0],\n",
      "                [8, 0],\n",
      "                [9, 0],\n",
      "                [9, 1],\n",
      "                [9, 2],\n",
      "                [9, 3],\n",
      "                [9, 4],\n",
      "                [9, 5],\n",
      "                [9, 6],\n",
      "                [9, 7],\n",
      "                [9, 8],\n",
      "                [9, 9],\n",
      "                [8, 9],\n",
      "                [7, 9],\n",
      "                [6, 9],\n",
      "                [5, 9],\n",
      "                [4, 9],\n",
      "                [3, 9],\n",
      "                [2, 9],\n",
      "                [1, 9],\n",
      "                [0, 9],\n",
      "                [0, 8],\n",
      "                [0, 7],\n",
      "                [0, 6],\n",
      "                [0, 5],\n",
      "                [0, 4],\n",
      "                [0, 3],\n",
      "                [0, 2],\n",
      "                [0, 1]\n",
      "            ],\n",
      "            \"Exisiting Coordinates\": [],\n",
      "            \"Reasoning\": \"A rectangle that spans the entire grid can be created by connecting all the outer points of the grid to form the shape's perimeter.\"\n",
      "      }\n",
      "    ]\n",
      "}\n",
      "```\n",
      "\n"
     ]
    },
    {
     "ename": "JSONDecodeError",
     "evalue": "Expecting value: line 1 column 1 (char 0)",
     "output_type": "error",
     "traceback": [
      "\u001b[1;31m---------------------------------------------------------------------------\u001b[0m",
      "\u001b[1;31mJSONDecodeError\u001b[0m                           Traceback (most recent call last)",
      "Cell \u001b[1;32mIn[6], line 11\u001b[0m\n\u001b[0;32m      9\u001b[0m response_text \u001b[38;5;241m=\u001b[39m response\u001b[38;5;241m.\u001b[39mtext\n\u001b[0;32m     10\u001b[0m \u001b[38;5;28mprint\u001b[39m(response_text)\n\u001b[1;32m---> 11\u001b[0m data \u001b[38;5;241m=\u001b[39m \u001b[43mjson\u001b[49m\u001b[38;5;241;43m.\u001b[39;49m\u001b[43mloads\u001b[49m\u001b[43m(\u001b[49m\u001b[43mresponse_text\u001b[49m\u001b[43m)\u001b[49m\n\u001b[0;32m     13\u001b[0m \u001b[38;5;28;01mfor\u001b[39;00m design \u001b[38;5;129;01min\u001b[39;00m data[\u001b[38;5;124m'\u001b[39m\u001b[38;5;124mDesign\u001b[39m\u001b[38;5;124m'\u001b[39m]:\n\u001b[0;32m     14\u001b[0m     coordinates \u001b[38;5;241m=\u001b[39m design[\u001b[38;5;124m'\u001b[39m\u001b[38;5;124mNew Coordinates\u001b[39m\u001b[38;5;124m'\u001b[39m]\n",
      "File \u001b[1;32m~\\anaconda3\\envs\\CrazyFlie\\Lib\\json\\__init__.py:346\u001b[0m, in \u001b[0;36mloads\u001b[1;34m(s, cls, object_hook, parse_float, parse_int, parse_constant, object_pairs_hook, **kw)\u001b[0m\n\u001b[0;32m    341\u001b[0m     s \u001b[38;5;241m=\u001b[39m s\u001b[38;5;241m.\u001b[39mdecode(detect_encoding(s), \u001b[38;5;124m'\u001b[39m\u001b[38;5;124msurrogatepass\u001b[39m\u001b[38;5;124m'\u001b[39m)\n\u001b[0;32m    343\u001b[0m \u001b[38;5;28;01mif\u001b[39;00m (\u001b[38;5;28mcls\u001b[39m \u001b[38;5;129;01mis\u001b[39;00m \u001b[38;5;28;01mNone\u001b[39;00m \u001b[38;5;129;01mand\u001b[39;00m object_hook \u001b[38;5;129;01mis\u001b[39;00m \u001b[38;5;28;01mNone\u001b[39;00m \u001b[38;5;129;01mand\u001b[39;00m\n\u001b[0;32m    344\u001b[0m         parse_int \u001b[38;5;129;01mis\u001b[39;00m \u001b[38;5;28;01mNone\u001b[39;00m \u001b[38;5;129;01mand\u001b[39;00m parse_float \u001b[38;5;129;01mis\u001b[39;00m \u001b[38;5;28;01mNone\u001b[39;00m \u001b[38;5;129;01mand\u001b[39;00m\n\u001b[0;32m    345\u001b[0m         parse_constant \u001b[38;5;129;01mis\u001b[39;00m \u001b[38;5;28;01mNone\u001b[39;00m \u001b[38;5;129;01mand\u001b[39;00m object_pairs_hook \u001b[38;5;129;01mis\u001b[39;00m \u001b[38;5;28;01mNone\u001b[39;00m \u001b[38;5;129;01mand\u001b[39;00m \u001b[38;5;129;01mnot\u001b[39;00m kw):\n\u001b[1;32m--> 346\u001b[0m     \u001b[38;5;28;01mreturn\u001b[39;00m \u001b[43m_default_decoder\u001b[49m\u001b[38;5;241;43m.\u001b[39;49m\u001b[43mdecode\u001b[49m\u001b[43m(\u001b[49m\u001b[43ms\u001b[49m\u001b[43m)\u001b[49m\n\u001b[0;32m    347\u001b[0m \u001b[38;5;28;01mif\u001b[39;00m \u001b[38;5;28mcls\u001b[39m \u001b[38;5;129;01mis\u001b[39;00m \u001b[38;5;28;01mNone\u001b[39;00m:\n\u001b[0;32m    348\u001b[0m     \u001b[38;5;28mcls\u001b[39m \u001b[38;5;241m=\u001b[39m JSONDecoder\n",
      "File \u001b[1;32m~\\anaconda3\\envs\\CrazyFlie\\Lib\\json\\decoder.py:337\u001b[0m, in \u001b[0;36mJSONDecoder.decode\u001b[1;34m(self, s, _w)\u001b[0m\n\u001b[0;32m    332\u001b[0m \u001b[38;5;28;01mdef\u001b[39;00m \u001b[38;5;21mdecode\u001b[39m(\u001b[38;5;28mself\u001b[39m, s, _w\u001b[38;5;241m=\u001b[39mWHITESPACE\u001b[38;5;241m.\u001b[39mmatch):\n\u001b[0;32m    333\u001b[0m \u001b[38;5;250m    \u001b[39m\u001b[38;5;124;03m\"\"\"Return the Python representation of ``s`` (a ``str`` instance\u001b[39;00m\n\u001b[0;32m    334\u001b[0m \u001b[38;5;124;03m    containing a JSON document).\u001b[39;00m\n\u001b[0;32m    335\u001b[0m \n\u001b[0;32m    336\u001b[0m \u001b[38;5;124;03m    \"\"\"\u001b[39;00m\n\u001b[1;32m--> 337\u001b[0m     obj, end \u001b[38;5;241m=\u001b[39m \u001b[38;5;28;43mself\u001b[39;49m\u001b[38;5;241;43m.\u001b[39;49m\u001b[43mraw_decode\u001b[49m\u001b[43m(\u001b[49m\u001b[43ms\u001b[49m\u001b[43m,\u001b[49m\u001b[43m \u001b[49m\u001b[43midx\u001b[49m\u001b[38;5;241;43m=\u001b[39;49m\u001b[43m_w\u001b[49m\u001b[43m(\u001b[49m\u001b[43ms\u001b[49m\u001b[43m,\u001b[49m\u001b[43m \u001b[49m\u001b[38;5;241;43m0\u001b[39;49m\u001b[43m)\u001b[49m\u001b[38;5;241;43m.\u001b[39;49m\u001b[43mend\u001b[49m\u001b[43m(\u001b[49m\u001b[43m)\u001b[49m\u001b[43m)\u001b[49m\n\u001b[0;32m    338\u001b[0m     end \u001b[38;5;241m=\u001b[39m _w(s, end)\u001b[38;5;241m.\u001b[39mend()\n\u001b[0;32m    339\u001b[0m     \u001b[38;5;28;01mif\u001b[39;00m end \u001b[38;5;241m!=\u001b[39m \u001b[38;5;28mlen\u001b[39m(s):\n",
      "File \u001b[1;32m~\\anaconda3\\envs\\CrazyFlie\\Lib\\json\\decoder.py:355\u001b[0m, in \u001b[0;36mJSONDecoder.raw_decode\u001b[1;34m(self, s, idx)\u001b[0m\n\u001b[0;32m    353\u001b[0m     obj, end \u001b[38;5;241m=\u001b[39m \u001b[38;5;28mself\u001b[39m\u001b[38;5;241m.\u001b[39mscan_once(s, idx)\n\u001b[0;32m    354\u001b[0m \u001b[38;5;28;01mexcept\u001b[39;00m \u001b[38;5;167;01mStopIteration\u001b[39;00m \u001b[38;5;28;01mas\u001b[39;00m err:\n\u001b[1;32m--> 355\u001b[0m     \u001b[38;5;28;01mraise\u001b[39;00m JSONDecodeError(\u001b[38;5;124m\"\u001b[39m\u001b[38;5;124mExpecting value\u001b[39m\u001b[38;5;124m\"\u001b[39m, s, err\u001b[38;5;241m.\u001b[39mvalue) \u001b[38;5;28;01mfrom\u001b[39;00m \u001b[38;5;28;01mNone\u001b[39;00m\n\u001b[0;32m    356\u001b[0m \u001b[38;5;28;01mreturn\u001b[39;00m obj, end\n",
      "\u001b[1;31mJSONDecodeError\u001b[0m: Expecting value: line 1 column 1 (char 0)"
     ]
    }
   ],
   "source": [
    "for shape in all_designs:\n",
    "    title = shape + \" \" + LLM_name\n",
    "    filename = shape + \".png\"\n",
    "    prompt = functions.create_prompt(current_coordinates=current_coordinates, requested_design=shape)\n",
    "    prompt = prompt\n",
    "    #print(prompt)\n",
    "    #print(\"\\n\\n\")\n",
    "    response = model.generate_content(prompt)\n",
    "    response_text = response.text\n",
    "    print(response_text)\n",
    "    data = json.loads(response_text)\n",
    "\n",
    "    for design in data['Design']:\n",
    "        coordinates = design['New Coordinates']\n",
    "        functions.save_plot_coordinates(title=title, list_of_coordinates=coordinates, filename=filename, folder=folder_name)\n",
    "        #print(design['Reasoning'])\n",
    "\n",
    "    time.sleep(60)"
   ]
  },
  {
   "cell_type": "code",
   "execution_count": null,
   "id": "cad7c8b7-bf82-4de1-818e-6359fa39ee5f",
   "metadata": {},
   "outputs": [],
   "source": []
  },
  {
   "cell_type": "code",
   "execution_count": null,
   "id": "6b68c3de-2f25-4cd8-8962-2be08311a76f",
   "metadata": {},
   "outputs": [],
   "source": []
  }
 ],
 "metadata": {
  "kernelspec": {
   "display_name": "Python 3 (ipykernel)",
   "language": "python",
   "name": "python3"
  },
  "language_info": {
   "codemirror_mode": {
    "name": "ipython",
    "version": 3
   },
   "file_extension": ".py",
   "mimetype": "text/x-python",
   "name": "python",
   "nbconvert_exporter": "python",
   "pygments_lexer": "ipython3",
   "version": "3.12.3"
  }
 },
 "nbformat": 4,
 "nbformat_minor": 5
}
